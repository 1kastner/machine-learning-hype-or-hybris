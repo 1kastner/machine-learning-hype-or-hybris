{
 "cells": [
  {
   "cell_type": "markdown",
   "metadata": {},
   "source": [
    "# Autopreise\n",
    "\n",
    "Die Daten stammen von https://data.world/data-society/used-cars-data"
   ]
  },
  {
   "cell_type": "code",
   "execution_count": null,
   "metadata": {},
   "outputs": [],
   "source": [
    "import pandas as pd\n",
    "import matplotlib.pyplot as plt\n",
    "import seaborn as sns\n",
    "import sklearn.linear_model"
   ]
  },
  {
   "cell_type": "code",
   "execution_count": null,
   "metadata": {},
   "outputs": [],
   "source": [
    "df = pd.read_csv(\"autos.csv\", encoding=\"ISO-8859-1\")\n",
    "df.info()\n",
    "df.head()"
   ]
  },
  {
   "cell_type": "code",
   "execution_count": null,
   "metadata": {},
   "outputs": [],
   "source": [
    "df_kleinwagen = df[df[\"vehicleType\"] == \"kleinwagen\"]\n",
    "df_kleinwagen.info()\n",
    "df_kleinwagen.head()"
   ]
  },
  {
   "cell_type": "code",
   "execution_count": null,
   "metadata": {},
   "outputs": [],
   "source": [
    "df_kleinwagen.describe()"
   ]
  },
  {
   "cell_type": "markdown",
   "metadata": {},
   "source": [
    "## Verteilung von Kilometerstand"
   ]
  },
  {
   "cell_type": "code",
   "execution_count": null,
   "metadata": {},
   "outputs": [],
   "source": [
    "df_kleinwagen[\"kilometer\"].hist()\n",
    "plt.xlabel(\"Kilometer\")\n",
    "plt.ylabel(\"Anzahl\")\n",
    "plt.show()"
   ]
  },
  {
   "cell_type": "markdown",
   "metadata": {},
   "source": [
    "Der Kilometerstand sieht glaubwürdig aus"
   ]
  },
  {
   "cell_type": "markdown",
   "metadata": {},
   "source": [
    "## Verteilung vom Kaufpreis"
   ]
  },
  {
   "cell_type": "code",
   "execution_count": null,
   "metadata": {},
   "outputs": [],
   "source": [
    "df_kleinwagen[\"price\"].hist()\n",
    "plt.xlabel(\"Kilometer\")\n",
    "plt.ylabel(\"Anzahl\")\n",
    "plt.show()"
   ]
  },
  {
   "cell_type": "markdown",
   "metadata": {},
   "source": [
    "Dies sieht nicht glaubwürdig aus.\n",
    "Wie viele gebrauchte Autos sollen über 50.000 € kosten?"
   ]
  },
  {
   "cell_type": "code",
   "execution_count": null,
   "metadata": {},
   "outputs": [],
   "source": [
    "df_kleinwagen[\"price\"][df_kleinwagen[\"price\"] > 50000]"
   ]
  },
  {
   "cell_type": "code",
   "execution_count": null,
   "metadata": {},
   "outputs": [],
   "source": [
    "df_kleinwagen = df_kleinwagen[~(df_kleinwagen[\"price\"] > 20000)]\n",
    "df_kleinwagen.info()\n",
    "df_kleinwagen.describe()"
   ]
  },
  {
   "cell_type": "code",
   "execution_count": null,
   "metadata": {},
   "outputs": [],
   "source": [
    "df_kleinwagen[\"price\"].hist()\n",
    "plt.xlabel(\"Preis\")\n",
    "plt.ylabel(\"Anzahl\")\n",
    "plt.show()"
   ]
  },
  {
   "cell_type": "markdown",
   "metadata": {},
   "source": [
    "## Auswahl von Automarke und -modell\n",
    "\n",
    "Wir wollen ja nicht Äpfel mit Birnen vergleichen, deswegen legen wir uns nun fest.\n",
    "Damit es möglichst repräsentativ ist, nehmen wir das am häufigsten vorkommende Auto."
   ]
  },
  {
   "cell_type": "code",
   "execution_count": null,
   "metadata": {},
   "outputs": [],
   "source": [
    "autotypen = df_kleinwagen[\"name\"].value_counts()\n",
    "autotypen"
   ]
  },
  {
   "cell_type": "code",
   "execution_count": null,
   "metadata": {},
   "outputs": [],
   "source": [
    "df_ford_fiesta = df_kleinwagen[df_kleinwagen[\"name\"] == \"Ford_Fiesta\"]\n",
    "df_ford_fiesta.describe()"
   ]
  },
  {
   "cell_type": "markdown",
   "metadata": {},
   "source": [
    "## Visualisiere Korrelationen"
   ]
  },
  {
   "cell_type": "code",
   "execution_count": null,
   "metadata": {},
   "outputs": [],
   "source": [
    "sns.lmplot(x='kilometer', y='price', data=df_ford_fiesta, aspect=1.2, line_kws={\"color\": \"green\"})\n",
    "plt.ylabel(\"Preis (€)\")\n",
    "plt.xlabel(\"Kilometerstand (km)\")\n",
    "plt.show()"
   ]
  },
  {
   "cell_type": "code",
   "execution_count": null,
   "metadata": {},
   "outputs": [],
   "source": [
    "df_ford_fiesta[['kilometer','price']].corr()"
   ]
  },
  {
   "cell_type": "code",
   "execution_count": null,
   "metadata": {},
   "outputs": [],
   "source": [
    "sns.lmplot(x='yearOfRegistration', y='price', data=df_ford_fiesta, aspect=1.2, line_kws={\"color\": \"green\"})\n",
    "plt.ylabel(\"Preis (€)\")\n",
    "plt.xlabel(\"Jahr der Erstzulassung\")\n",
    "plt.show()"
   ]
  },
  {
   "cell_type": "code",
   "execution_count": null,
   "metadata": {},
   "outputs": [],
   "source": [
    "df_ford_fiesta[['yearOfRegistration','price']].corr()"
   ]
  },
  {
   "cell_type": "markdown",
   "metadata": {},
   "source": [
    "## Berechne Lineare Regression\n",
    "\n",
    "Diese bezieht nun beide Faktoren, sowohl Kilometer als auch das Jahr der Anmeldung, mit ein."
   ]
  },
  {
   "cell_type": "code",
   "execution_count": null,
   "metadata": {},
   "outputs": [],
   "source": [
    "X_train, X_test, y_train, y_test = sklearn.model_selection.train_test_split(df_ford_fiesta[\n",
    "    [\"kilometer\", \"yearOfRegistration\"]], df_ford_fiesta[\"price\"])"
   ]
  },
  {
   "cell_type": "code",
   "execution_count": null,
   "metadata": {},
   "outputs": [],
   "source": [
    "lm = sklearn.linear_model.LinearRegression()\n",
    "lm.fit(X_train, y_train)\n",
    "y_pred = lm.predict(X_test)\n",
    "\n",
    "difference = pd.DataFrame(data={\n",
    "    \"y_test\": y_test.values, \n",
    "    \"y_pred\": y_pred})\n",
    "\n",
    "difference"
   ]
  },
  {
   "cell_type": "code",
   "execution_count": null,
   "metadata": {},
   "outputs": [],
   "source": [
    "difference.describe()"
   ]
  },
  {
   "cell_type": "markdown",
   "metadata": {},
   "source": [
    "Die Differenz zwischen Vorhersage und tatsächlichem Preis lässt sich mit einem Histogramm visualisieren."
   ]
  },
  {
   "cell_type": "code",
   "execution_count": null,
   "metadata": {},
   "outputs": [],
   "source": [
    "(difference[\"y_test\"] - difference[\"y_pred\"]).plot.hist()\n",
    "plt.xlabel(\"Preisdifferenz (€)\")\n",
    "plt.show()"
   ]
  }
 ],
 "metadata": {
  "kernelspec": {
   "display_name": "Python [conda env:ml-hype-or-hybris] *",
   "language": "python",
   "name": "conda-env-ml-hype-or-hybris-py"
  },
  "language_info": {
   "codemirror_mode": {
    "name": "ipython",
    "version": 3
   },
   "file_extension": ".py",
   "mimetype": "text/x-python",
   "name": "python",
   "nbconvert_exporter": "python",
   "pygments_lexer": "ipython3",
   "version": "3.7.5"
  }
 },
 "nbformat": 4,
 "nbformat_minor": 2
}
