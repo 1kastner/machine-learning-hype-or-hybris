{
 "cells": [
  {
   "cell_type": "markdown",
   "metadata": {},
   "source": [
    "# Autopreise\n",
    "\n",
    "Die Daten stammen von https://data.world/data-society/used-cars-data\n",
    "Datensätze aus dem Internet darf man nur unter Berücksichtung geltenden Rechts weiterverbreiten.\n",
    "Wenn Sie dieses Jupyter Notebook später zu Hause durcharbeiten möchten, müssen Sie sich bei data.world einen Account anlegen und selbst die Daten von dort beziehen."
   ]
  },
  {
   "cell_type": "code",
   "execution_count": null,
   "metadata": {},
   "outputs": [],
   "source": [
    "import pandas as pd\n",
    "import matplotlib.pyplot as plt\n",
    "import seaborn as sns\n",
    "import sklearn.linear_model"
   ]
  },
  {
   "cell_type": "code",
   "execution_count": null,
   "metadata": {},
   "outputs": [],
   "source": [
    "df = pd.read_csv(\"autos.csv\", encoding=\"ISO-8859-1\")\n",
    "df.info()\n",
    "df.head()"
   ]
  },
  {
   "cell_type": "code",
   "execution_count": null,
   "metadata": {},
   "outputs": [],
   "source": [
    "df_kleinwagen = df[df[\"vehicleType\"] == \"kleinwagen\"]\n",
    "df_kleinwagen.info()\n",
    "df_kleinwagen.head()"
   ]
  },
  {
   "cell_type": "code",
   "execution_count": null,
   "metadata": {},
   "outputs": [],
   "source": [
    "df_kleinwagen.describe()"
   ]
  },
  {
   "cell_type": "markdown",
   "metadata": {},
   "source": [
    "## Verteilung von Kilometerstand"
   ]
  },
  {
   "cell_type": "code",
   "execution_count": null,
   "metadata": {},
   "outputs": [],
   "source": [
    "df_kleinwagen[\"kilometer\"].hist()\n",
    "plt.xlabel(\"Kilometer\")\n",
    "plt.ylabel(\"Anzahl\")\n",
    "plt.show()"
   ]
  },
  {
   "cell_type": "markdown",
   "metadata": {},
   "source": [
    "Der Kilometerstand sieht glaubwürdig aus"
   ]
  },
  {
   "cell_type": "markdown",
   "metadata": {},
   "source": [
    "## Verteilung vom Kaufpreis"
   ]
  },
  {
   "cell_type": "code",
   "execution_count": null,
   "metadata": {},
   "outputs": [],
   "source": [
    "ax = df_kleinwagen[\"price\"].hist()\n",
    "ax.ticklabel_format(style='plain')\n",
    "plt.xlabel(\"Preis\")\n",
    "plt.ylabel(\"Anzahl\")\n",
    "plt.show()"
   ]
  },
  {
   "cell_type": "markdown",
   "metadata": {},
   "source": [
    "Sehr wenige unverhältnismäßig teure Autos führen dazu, dass man nur einen blauen Balken sehen kann.\n",
    "Für die übrigen Preisgruppen sind die Balken so klein, dass man sie nicht erkennen kann.\n",
    "\n",
    "Diese Preisverteilung und insbesondere die sehr hohen Preise für Gebrauchtautos sehen nicht glaubwürdig aus.\n",
    "Da tauchen wir einmal tiefer ein.\n",
    "Wie viele gebrauchte Autos sollen über 50.000 € kosten?"
   ]
  },
  {
   "cell_type": "code",
   "execution_count": null,
   "metadata": {
    "scrolled": false
   },
   "outputs": [],
   "source": [
    "df_kleinwagen[df_kleinwagen[\"price\"] > 50000]"
   ]
  },
  {
   "cell_type": "markdown",
   "metadata": {},
   "source": [
    "Mit dem Tilde-Operator negieren wir den Suchausdruck.\n",
    "Wir schließen alle Autos aus, die angeblich über 20.000€ kosten sollen."
   ]
  },
  {
   "cell_type": "code",
   "execution_count": null,
   "metadata": {},
   "outputs": [],
   "source": [
    "df_kleinwagen = df_kleinwagen[~(df_kleinwagen[\"price\"] > 20000)]\n",
    "df_kleinwagen.info()\n",
    "df_kleinwagen.describe()"
   ]
  },
  {
   "cell_type": "code",
   "execution_count": null,
   "metadata": {},
   "outputs": [],
   "source": [
    "df_kleinwagen[\"price\"].hist()\n",
    "plt.xlabel(\"Preis\")\n",
    "plt.ylabel(\"Anzahl\")\n",
    "plt.show()"
   ]
  },
  {
   "cell_type": "markdown",
   "metadata": {},
   "source": [
    "## Auswahl von Automarke und -modell\n",
    "\n",
    "Wir wollen ja nicht Äpfel mit Birnen vergleichen, deswegen legen wir uns nun fest.\n",
    "Damit es möglichst repräsentativ ist, nehmen wir das am häufigsten vorkommende Auto."
   ]
  },
  {
   "cell_type": "code",
   "execution_count": null,
   "metadata": {},
   "outputs": [],
   "source": [
    "autotypen = df_kleinwagen[\"name\"].value_counts()\n",
    "autotypen"
   ]
  },
  {
   "cell_type": "code",
   "execution_count": null,
   "metadata": {},
   "outputs": [],
   "source": [
    "df_ford_fiesta = df_kleinwagen[df_kleinwagen[\"name\"] == \"Ford_Fiesta\"]\n",
    "df_ford_fiesta.describe()"
   ]
  },
  {
   "cell_type": "markdown",
   "metadata": {},
   "source": [
    "## Visualisiere Korrelationen"
   ]
  },
  {
   "cell_type": "code",
   "execution_count": null,
   "metadata": {},
   "outputs": [],
   "source": [
    "sns.lmplot(x='kilometer', y='price', data=df_ford_fiesta, aspect=1.2, line_kws={\"color\": \"green\"})\n",
    "plt.ylabel(\"Preis (€)\")\n",
    "plt.xlabel(\"Kilometerstand (km)\")\n",
    "plt.show()"
   ]
  },
  {
   "cell_type": "code",
   "execution_count": null,
   "metadata": {},
   "outputs": [],
   "source": [
    "df_ford_fiesta[['kilometer','price']].corr()"
   ]
  },
  {
   "cell_type": "code",
   "execution_count": null,
   "metadata": {},
   "outputs": [],
   "source": [
    "sns.lmplot(x='yearOfRegistration', y='price', data=df_ford_fiesta, aspect=1.2, line_kws={\"color\": \"green\"})\n",
    "plt.ylabel(\"Preis (€)\")\n",
    "plt.xlabel(\"Jahr der Erstzulassung\")\n",
    "plt.show()"
   ]
  },
  {
   "cell_type": "code",
   "execution_count": null,
   "metadata": {},
   "outputs": [],
   "source": [
    "df_ford_fiesta[['yearOfRegistration','price']].corr()"
   ]
  },
  {
   "cell_type": "markdown",
   "metadata": {},
   "source": [
    "## Berechne Lineare Regression\n",
    "\n",
    "Diese bezieht nun beide Faktoren, sowohl Kilometer als auch das Jahr der Anmeldung, mit ein."
   ]
  },
  {
   "cell_type": "code",
   "execution_count": null,
   "metadata": {},
   "outputs": [],
   "source": [
    "X_train, X_test, y_train, y_test = sklearn.model_selection.train_test_split(df_ford_fiesta[\n",
    "    [\"kilometer\", \"yearOfRegistration\"]], df_ford_fiesta[\"price\"])"
   ]
  },
  {
   "cell_type": "code",
   "execution_count": null,
   "metadata": {},
   "outputs": [],
   "source": [
    "lm = sklearn.linear_model.LinearRegression()\n",
    "lm.fit(X_train, y_train)\n",
    "y_pred = lm.predict(X_test)"
   ]
  },
  {
   "cell_type": "markdown",
   "metadata": {},
   "source": [
    "Die Differenz zwischen der Vorhersage und dem tatsächlichen Preis untersuchen wir genauer.\n",
    "Dafür erstellen wir einen eigenen DataFrame."
   ]
  },
  {
   "cell_type": "code",
   "execution_count": null,
   "metadata": {},
   "outputs": [],
   "source": [
    "difference = pd.DataFrame(data={\n",
    "    \"y_test\": y_test.values, \n",
    "    \"y_pred\": y_pred})\n",
    "\n",
    "difference"
   ]
  },
  {
   "cell_type": "code",
   "execution_count": null,
   "metadata": {},
   "outputs": [],
   "source": [
    "difference.describe()"
   ]
  },
  {
   "cell_type": "markdown",
   "metadata": {},
   "source": [
    "Die Differenz zwischen Vorhersage und tatsächlichem Preis lässt sich mit einem Histogramm visualisieren."
   ]
  },
  {
   "cell_type": "code",
   "execution_count": null,
   "metadata": {},
   "outputs": [],
   "source": [
    "(difference[\"y_test\"] - difference[\"y_pred\"]).plot.hist()\n",
    "plt.xlabel(\"Preisdifferenz (€)\")\n",
    "plt.show()"
   ]
  }
 ],
 "metadata": {
  "kernelspec": {
   "display_name": "Python [conda env:ml-hype-or-hybris] *",
   "language": "python",
   "name": "conda-env-ml-hype-or-hybris-py"
  },
  "language_info": {
   "codemirror_mode": {
    "name": "ipython",
    "version": 3
   },
   "file_extension": ".py",
   "mimetype": "text/x-python",
   "name": "python",
   "nbconvert_exporter": "python",
   "pygments_lexer": "ipython3",
   "version": "3.7.6"
  },
  "varInspector": {
   "cols": {
    "lenName": 16,
    "lenType": 16,
    "lenVar": 40
   },
   "kernels_config": {
    "python": {
     "delete_cmd_postfix": "",
     "delete_cmd_prefix": "del ",
     "library": "var_list.py",
     "varRefreshCmd": "print(var_dic_list())"
    },
    "r": {
     "delete_cmd_postfix": ") ",
     "delete_cmd_prefix": "rm(",
     "library": "var_list.r",
     "varRefreshCmd": "cat(var_dic_list()) "
    }
   },
   "types_to_exclude": [
    "module",
    "function",
    "builtin_function_or_method",
    "instance",
    "_Feature"
   ],
   "window_display": false
  }
 },
 "nbformat": 4,
 "nbformat_minor": 2
}
