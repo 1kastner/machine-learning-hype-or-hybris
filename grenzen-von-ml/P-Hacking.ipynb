{
 "cells": [
  {
   "cell_type": "markdown",
   "metadata": {},
   "source": [
    "# P-Hacking\n",
    "\n",
    "Das Konzept P-Hacking bedeutet, dass man absichtlich so lange die Auswertung der eigenen Daten verändert, bis genau die Werte herauskommen, die zur eigenen Hypothese passen.\n",
    "Dieses Verhalten ist ein Problem für alle Bereiche:\n",
    "In der Wissenschaft werden unter Umständen falsche Hypothesen (fälschlicherweise) empirisch untermauert.\n",
    "In der Praxis bedeutet es, dass ggf. defekte Modelle in den Betrieb aufgenommen werden.\n",
    "Sobald sich jemand auf das falsche Modell verlässt, kann dies zu ernsthaften Schäden an Menschen oder Umwelt führen.\n",
    "Ebenso sind finanzielle Schäden nicht ausgeschlossen.\n",
    "Weiterführende Infos gibt es z. B. auf\n",
    "[Wikipedia](https://de.wikipedia.org/wiki/P-Hacking)."
   ]
  },
  {
   "cell_type": "code",
   "execution_count": null,
   "metadata": {},
   "outputs": [],
   "source": [
    "import random\n",
    "import pandas as pd\n",
    "import numpy as np\n",
    "import matplotlib.pyplot as plt"
   ]
  },
  {
   "cell_type": "markdown",
   "metadata": {},
   "source": [
    "Zunächst wird wieder der Zufallsgenerator fixiert."
   ]
  },
  {
   "cell_type": "code",
   "execution_count": null,
   "metadata": {},
   "outputs": [],
   "source": [
    "np.random.seed(0)"
   ]
  },
  {
   "cell_type": "code",
   "execution_count": null,
   "metadata": {},
   "outputs": [],
   "source": [
    "df = pd.DataFrame(np.random.randint(0, 100, size=(100, 26)), columns=list('ABCDEFGHIJKLMNOPQRSTUVWXYZ'))\n",
    "df"
   ]
  },
  {
   "cell_type": "code",
   "execution_count": null,
   "metadata": {},
   "outputs": [],
   "source": [
    "fig = plt.figure(figsize=(19, 15))\n",
    "plt.matshow(df.corr(), fignum=fig.number, cmap='RdBu', vmin=-1, vmax=1)\n",
    "plt.xticks(range(df.shape[1]), df.columns)\n",
    "plt.yticks(range(df.shape[1]), df.columns)\n",
    "plt.colorbar()\n",
    "plt.show()"
   ]
  },
  {
   "cell_type": "markdown",
   "metadata": {},
   "source": [
    "## Feature-Engineering falsch gemacht\n",
    "\n",
    "Nun werden wir so lange neue Features erstellen, bis wir (mindestens) eines finden, dass mit einem Attribut korreliert.\n",
    "Hierhinter steht keinerlei Theorie, es sind reine Zufallsdaten.\n",
    "Dafür werden die Attribute addiert und multipliziert.\n",
    "Andere Operatoren wie Division und Subtraktion wären natürlich genauso möglich.\n",
    "Darüber hinaus könnte man noch viel mehr Funktionen verwenden, wie Sinus, Logarithmus etc."
   ]
  },
  {
   "cell_type": "code",
   "execution_count": null,
   "metadata": {},
   "outputs": [],
   "source": [
    "# Hier werden die Additionen zweier Attribute gespeichert\n",
    "additions = []\n",
    "\n",
    "# Hier werden die Multiplikationen zweier Attribute gespeichert\n",
    "multiplications = []\n",
    "\n",
    "for column_A in df.columns:\n",
    "    for column_B in df.columns:\n",
    "        \n",
    "        addition = df[column_A] + df[column_B]\n",
    "        addition.name = f\"{column_A} + {column_B}\"\n",
    "        additions.append(addition)\n",
    "        \n",
    "        multiplication = df[column_A] * df[column_B]\n",
    "        multiplication.name = f\"{column_A} * {column_B}\"\n",
    "        multiplications.append(multiplication)\n"
   ]
  },
  {
   "cell_type": "markdown",
   "metadata": {},
   "source": [
    "Diese kreierten Attribute fügen wir nun dem DataFrame hinzu."
   ]
  },
  {
   "cell_type": "code",
   "execution_count": null,
   "metadata": {},
   "outputs": [],
   "source": [
    "df = df.assign(**{series.name : series for series in additions})\n",
    "df = df.assign(**{series.name : series for series in multiplications})\n",
    "\n",
    "df"
   ]
  },
  {
   "cell_type": "code",
   "execution_count": null,
   "metadata": {},
   "outputs": [],
   "source": [
    "fig = plt.figure(figsize=(19, 15))\n",
    "plt.matshow(df.corr(), fignum=fig.number, cmap='RdBu', vmin=-1, vmax=1)\n",
    "plt.colorbar()\n",
    "plt.show()"
   ]
  },
  {
   "cell_type": "markdown",
   "metadata": {},
   "source": [
    "Es sind sehr viele Attribute geworden und dies lässt sich nun auch schwer visuell inspizieren.\n",
    "Deswegen untersuchen wir diese Korrelationskoeffizienten nun weiter.\n",
    "Dafür werden diese zunächst in eine Liste überführt.\n",
    "Dadurch geht die Information verloren, wie genau die Zeilen heißen, die korrelieren."
   ]
  },
  {
   "cell_type": "code",
   "execution_count": null,
   "metadata": {},
   "outputs": [],
   "source": [
    "cor_values = df.corr().values.flatten()\n",
    "cor_values = cor_values[cor_values != 1]  # Entferne die perfekten Korrelationen\n",
    "pd.DataFrame(cor_values, columns=[\"Korrelationskoeffizient\"]).plot.hist()\n",
    "plt.show()"
   ]
  },
  {
   "cell_type": "markdown",
   "metadata": {},
   "source": [
    "Sehr viele Korrelationen sind nur sehr schwach ausgeprägt.\n",
    "Deswegen kann man diese im Histogramm besser erkennen als die stärkeren Korrelationen.\n",
    "Um die stärker ausgeprägten Korrelationen besser sehen zu können, entfernen wir den mittleren Teil.\n",
    "Außerdem ist weniger von Interesse, ob eine Korrelation positiv oder negativ ist.\n",
    "Die hier eingesetzte Funktion `abs()` nimmt den absoluten Betrag."
   ]
  },
  {
   "cell_type": "code",
   "execution_count": null,
   "metadata": {},
   "outputs": [],
   "source": [
    "pd.DataFrame(abs(cor_values[((cor_values < -.5) | (cor_values > .5))])).plot.hist()\n",
    "plt.show()"
   ]
  },
  {
   "cell_type": "markdown",
   "metadata": {},
   "source": [
    "Es sieht so aus, als ob die Suche erfolgreich war.\n",
    "Bei 0,9 gibt es mehrere Einträge.\n",
    "Hier zoomen wir weiter heran."
   ]
  },
  {
   "cell_type": "code",
   "execution_count": null,
   "metadata": {},
   "outputs": [],
   "source": [
    "pd.DataFrame(abs(cor_values[((cor_values < -.9) | (cor_values > .9))])).plot.hist()\n",
    "plt.show()"
   ]
  },
  {
   "cell_type": "markdown",
   "metadata": {},
   "source": [
    "Nun isolieren wir die Korrelationen weiter durch Filtern."
   ]
  },
  {
   "cell_type": "code",
   "execution_count": null,
   "metadata": {},
   "outputs": [],
   "source": [
    "df_corr = df.corr()\n",
    "np.fill_diagonal(df_corr.values, 0)\n",
    "df_high_corr = df_corr[(df_corr > .9)]\n",
    "df_high_corr"
   ]
  },
  {
   "cell_type": "markdown",
   "metadata": {},
   "source": [
    "Das gleiche hier visualisiert:"
   ]
  },
  {
   "cell_type": "code",
   "execution_count": null,
   "metadata": {},
   "outputs": [],
   "source": [
    "fig = plt.figure(figsize=(19, 15))\n",
    "plt.matshow(df_high_corr, fignum=fig.number, cmap='RdBu', vmin=-1, vmax=1)\n",
    "plt.colorbar()\n",
    "plt.show()"
   ]
  },
  {
   "cell_type": "code",
   "execution_count": null,
   "metadata": {},
   "outputs": [],
   "source": [
    "# remove all none rows here!\n",
    "df_high_corr"
   ]
  }
 ],
 "metadata": {
  "kernelspec": {
   "display_name": "Python [conda env:ml-hype-or-hybris] *",
   "language": "python",
   "name": "conda-env-ml-hype-or-hybris-py"
  },
  "language_info": {
   "codemirror_mode": {
    "name": "ipython",
    "version": 3
   },
   "file_extension": ".py",
   "mimetype": "text/x-python",
   "name": "python",
   "nbconvert_exporter": "python",
   "pygments_lexer": "ipython3",
   "version": "3.7.5"
  }
 },
 "nbformat": 4,
 "nbformat_minor": 2
}
