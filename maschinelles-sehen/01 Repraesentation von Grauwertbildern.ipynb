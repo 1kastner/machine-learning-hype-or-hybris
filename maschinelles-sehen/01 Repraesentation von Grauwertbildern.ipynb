{
 "cells": [
  {
   "cell_type": "markdown",
   "metadata": {},
   "source": [
    "# Repräsentation von Grauwertbildern\n",
    "\n",
    "Bilder werden häufig in Form von Rastergrafiken gespeichert.\n",
    "Dies bedeutet, dass ein Bild mit einer Breite $m$ und einer Höhe $n$ dann $m \\times n$ Pixel groß ist.\n",
    "Ein Pixel ist ein \"Picture Element\", also die Farbe an einer bestimmten Stelle.\n",
    "Ein Bild kann somit als eine Matrix von Pixeln dargestellt werden."
   ]
  },
  {
   "cell_type": "code",
   "execution_count": null,
   "metadata": {},
   "outputs": [],
   "source": [
    "import imageio\n",
    "import matplotlib.pyplot as plt"
   ]
  },
  {
   "cell_type": "markdown",
   "metadata": {},
   "source": [
    "Die Bibliothek `imageio` enthält eine Reihe von Beispielbildern.\n",
    "Dies nimmt dem Entwickler Lizenzfragen ab."
   ]
  },
  {
   "cell_type": "code",
   "execution_count": null,
   "metadata": {},
   "outputs": [],
   "source": [
    "gray_image = imageio.imread(\"imageio:camera.png\")\n",
    "plt.imshow(gray_image, cmap=\"gray\")\n",
    "plt.show()"
   ]
  },
  {
   "cell_type": "markdown",
   "metadata": {},
   "source": [
    "Ein Bild verfügt über eine Breite und eine Höhe.\n",
    "Wie man oben an der X- und Y-Achse sieht, ist das Bild etwas über 500 Pixel hoch und breit.\n",
    "Grauwertbilder haben nur einen Zahlenwert je darzustellenden Pixel, den Intensitätswert an der jeweiligen Position.\n",
    "\n",
    "Das Bild wird intern als eine zweidimensionale Matrix abgespeichert."
   ]
  },
  {
   "cell_type": "code",
   "execution_count": null,
   "metadata": {},
   "outputs": [],
   "source": [
    "gray_image.ndim"
   ]
  },
  {
   "cell_type": "markdown",
   "metadata": {},
   "source": [
    "Es gibt viele Standards für die Intensitätswerte.\n",
    "Deswegen sollte man jedes Mal überprüfen, in welchem Format ein Bild vorliegt.\n",
    "Dafür werden die kleinsten und größten Intensitätswerte betrachtet."
   ]
  },
  {
   "cell_type": "code",
   "execution_count": null,
   "metadata": {},
   "outputs": [],
   "source": [
    "gray_image.min(), gray_image.max()"
   ]
  },
  {
   "cell_type": "markdown",
   "metadata": {},
   "source": [
    "Die Pixel rangieren zwischen 0 und 255, sprich insgesamt 256 verschiedene Werte."
   ]
  },
  {
   "cell_type": "markdown",
   "metadata": {},
   "source": [
    "## Ausschneiden von Bildteilen\n",
    "\n",
    "Wir können auf die Matrix über die Standard-Operatoren von Python zugreifen.\n",
    "Einer davon ist der Doppelpunkt zur Bestimmung von Abschnitten.\n",
    "So können wir z. B. die Kamera ausschneiden.\n",
    "Der Zugriff erfolgt über `BILD[Y-Achse, X-Achse]`."
   ]
  },
  {
   "cell_type": "code",
   "execution_count": null,
   "metadata": {},
   "outputs": [],
   "source": [
    "plt.imshow(gray_image[100:200, 250:350], cmap=\"gray\")"
   ]
  },
  {
   "cell_type": "markdown",
   "metadata": {},
   "source": [
    "Dieses Bild können wir nun auch invertieren."
   ]
  },
  {
   "cell_type": "code",
   "execution_count": null,
   "metadata": {},
   "outputs": [],
   "source": [
    "plt.imshow(255 - gray_image[100:200, 250:350], cmap=\"gray\")"
   ]
  },
  {
   "cell_type": "markdown",
   "metadata": {},
   "source": [
    "Nun betrachten wir das eine Kamera-Rohr weiter."
   ]
  },
  {
   "cell_type": "code",
   "execution_count": null,
   "metadata": {},
   "outputs": [],
   "source": [
    "plt.imshow(gray_image[140:160, 320:340], cmap=\"gray\")\n",
    "plt.show()"
   ]
  },
  {
   "cell_type": "markdown",
   "metadata": {},
   "source": [
    "Die Matrix von Pixelwerten lässt sich auch direkt einsehen."
   ]
  },
  {
   "cell_type": "code",
   "execution_count": null,
   "metadata": {},
   "outputs": [],
   "source": [
    "gray_image[140:160, 320:340]"
   ]
  },
  {
   "cell_type": "markdown",
   "metadata": {},
   "source": [
    "Was bedeuten hier die kleinen, was bedeuten hier die großen Zahlen?"
   ]
  }
 ],
 "metadata": {
  "kernelspec": {
   "display_name": "Python 3",
   "language": "python",
   "name": "python3"
  },
  "language_info": {
   "codemirror_mode": {
    "name": "ipython",
    "version": 3
   },
   "file_extension": ".py",
   "mimetype": "text/x-python",
   "name": "python",
   "nbconvert_exporter": "python",
   "pygments_lexer": "ipython3",
   "version": "3.6.7"
  }
 },
 "nbformat": 4,
 "nbformat_minor": 2
}
