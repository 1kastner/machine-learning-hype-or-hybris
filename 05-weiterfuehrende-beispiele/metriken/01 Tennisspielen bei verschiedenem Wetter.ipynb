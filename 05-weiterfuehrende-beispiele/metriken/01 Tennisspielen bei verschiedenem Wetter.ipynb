{
 "cells": [
  {
   "cell_type": "markdown",
   "metadata": {},
   "source": [
    "# Tennisspielen bei verschiedenem Wetter\n",
    "\n",
    "Dies ist der gleiche Datensatz wie bei der Einführung.\n",
    "Diesmal ist der Schwerpunkt auf den verschiedenen Metriken, mit denen die Güte bewertet werden kann."
   ]
  },
  {
   "cell_type": "code",
   "execution_count": null,
   "metadata": {},
   "outputs": [],
   "source": [
    "import pandas as pd\n",
    "import sklearn.tree\n",
    "import sklearn.model_selection\n",
    "import sklearn.metrics\n",
    "\n",
    "df = pd.read_csv(\"../../02-erste-ml-experimente/tennis.tsv\", sep=\" \\t\", engine=\"python\")\n",
    "one_hot_encoded = pd.get_dummies(df[[\"Outlook\", \"Temperature\", \"Humidity\", \"Wind\"]])\n",
    "X_train, X_test, y_train, y_test = sklearn.model_selection.train_test_split(one_hot_encoded, df[\"Play Tennis?\"])\n",
    "dt = sklearn.tree.DecisionTreeClassifier()\n",
    "dt.fit(X_train, y_train)\n",
    "y_pred = dt.predict(X_test)\n",
    "y_pred"
   ]
  },
  {
   "cell_type": "markdown",
   "metadata": {},
   "source": [
    "Nun visualisieren wir einmal als Tabelle kurz, wie häufig wir falsch lagen:"
   ]
  },
  {
   "cell_type": "code",
   "execution_count": null,
   "metadata": {},
   "outputs": [],
   "source": [
    "evaluation = pd.DataFrame(data={\n",
    "    \"predicted\": y_pred,\n",
    "    \"actual\": y_test\n",
    "})\n",
    "evaluation"
   ]
  },
  {
   "cell_type": "markdown",
   "metadata": {},
   "source": [
    "## Metriken\n",
    "\n",
    "Die Metriken helfen dabei, in Zahlen die Diskrepanz zwischen der Vorhersage und dem tatsächlichen Wert in Zahlen zu fassen.\n",
    "Hier nun ein paar Beispiele, was man messen kann."
   ]
  },
  {
   "cell_type": "code",
   "execution_count": null,
   "metadata": {},
   "outputs": [],
   "source": [
    "print(\"Metriken\")\n",
    "for entry in dir(sklearn.metrics):\n",
    "    if entry.startswith(\"_\") or entry == entry.upper():\n",
    "        continue\n",
    "    print(\"-\", entry)"
   ]
  },
  {
   "cell_type": "code",
   "execution_count": null,
   "metadata": {},
   "outputs": [],
   "source": [
    "evaluation"
   ]
  },
  {
   "cell_type": "code",
   "execution_count": null,
   "metadata": {},
   "outputs": [],
   "source": [
    "precision, recall, fscore, support = sklearn.metrics.precision_recall_fscore_support(\n",
    "    y_test.values, y_pred, labels=[\"Yes\", \"No\"])\n",
    "\n",
    "print(\"Precision \\t\", precision)\n",
    "print(\"Recall \\t\\t\", recall)\n",
    "print(\"F-Score \\t\", fscore)\n",
    "print(\"Support \\t\", support)"
   ]
  },
  {
   "cell_type": "markdown",
   "metadata": {},
   "source": [
    "**Aufgabe 1)**\n",
    "\n",
    "Berechnen Sie selbständig diese vier Werte.\n",
    "Hinweise gibt es z. B. im \n",
    "[Wikipedia-Artikel zum binären Klassifikator](https://de.wikipedia.org/wiki/Beurteilung_eines_bin%C3%A4ren_Klassifikators)."
   ]
  },
  {
   "cell_type": "markdown",
   "metadata": {},
   "source": [
    "Antwort: ..."
   ]
  },
  {
   "cell_type": "markdown",
   "metadata": {},
   "source": [
    "<a rel=\"license\" href=\"http://creativecommons.org/licenses/by/4.0/\"><img alt=\"Creative Commons Lizenzvertrag\" style=\"border-width:0; display:inline\" src=\"https://i.creativecommons.org/l/by/4.0/88x31.png\" /></a> &nbsp;&nbsp;&nbsp;&nbsp;Dieses Werk von Marvin Kastner ist lizenziert unter einer <a rel=\"license\" href=\"http://creativecommons.org/licenses/by/4.0/\">Creative Commons Namensnennung 4.0 International Lizenz</a>."
   ]
  }
 ],
 "metadata": {
  "kernelspec": {
   "display_name": "Python [conda env:ml-potentials-and-risks] *",
   "language": "python",
   "name": "conda-env-ml-potentials-and-risks-py"
  },
  "language_info": {
   "codemirror_mode": {
    "name": "ipython",
    "version": 3
   },
   "file_extension": ".py",
   "mimetype": "text/x-python",
   "name": "python",
   "nbconvert_exporter": "python",
   "pygments_lexer": "ipython3",
   "version": "3.8.10"
  },
  "varInspector": {
   "cols": {
    "lenName": 16,
    "lenType": 16,
    "lenVar": 40
   },
   "kernels_config": {
    "python": {
     "delete_cmd_postfix": "",
     "delete_cmd_prefix": "del ",
     "library": "var_list.py",
     "varRefreshCmd": "print(var_dic_list())"
    },
    "r": {
     "delete_cmd_postfix": ") ",
     "delete_cmd_prefix": "rm(",
     "library": "var_list.r",
     "varRefreshCmd": "cat(var_dic_list()) "
    }
   },
   "types_to_exclude": [
    "module",
    "function",
    "builtin_function_or_method",
    "instance",
    "_Feature"
   ],
   "window_display": false
  }
 },
 "nbformat": 4,
 "nbformat_minor": 4
}
