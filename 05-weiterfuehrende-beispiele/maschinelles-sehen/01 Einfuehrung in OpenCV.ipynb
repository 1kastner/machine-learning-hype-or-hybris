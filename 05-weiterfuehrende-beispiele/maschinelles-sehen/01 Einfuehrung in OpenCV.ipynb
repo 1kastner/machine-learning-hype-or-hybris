{
 "cells": [
  {
   "cell_type": "markdown",
   "metadata": {},
   "source": [
    "# Einführung in OpenCV "
   ]
  },
  {
   "cell_type": "code",
   "execution_count": null,
   "metadata": {},
   "outputs": [],
   "source": [
    "import sys\n",
    "\n",
    "%conda install --yes --prefix {sys.prefix} -c conda-forge opencv"
   ]
  },
  {
   "cell_type": "code",
   "execution_count": null,
   "metadata": {},
   "outputs": [],
   "source": [
    "import imageio\n",
    "import cv2\n",
    "import numpy as np\n",
    "from matplotlib import pyplot as plt"
   ]
  },
  {
   "cell_type": "markdown",
   "metadata": {},
   "source": [
    "Beispielbilder werden mit imageio frei verschifft.\n",
    "Für die Übersicht der Bilder siehe [hier](https://imageio.readthedocs.io/en/latest/standardimages.html).\n",
    "Zunächst wird das Bild mithilfe von matplotlib visualisiert, das eine gute Integration mit Jupyter Notebooks hat.\n",
    "[Hier](https://medium.com/@mrdatainsight/how-to-use-opencv-imshow-in-a-jupyter-notebook-quick-tip-ce83fa32b5ad) gibt es weiterführende Informationen, wobei es bei OpenCV hakelt."
   ]
  },
  {
   "cell_type": "code",
   "execution_count": null,
   "metadata": {},
   "outputs": [],
   "source": [
    "gray_image = imageio.imread(\"imageio:coins.png\")\n",
    "plt.imshow(gray_image, cmap=\"gray\")\n",
    "plt.show()"
   ]
  },
  {
   "cell_type": "markdown",
   "metadata": {},
   "source": [
    "Nun ist bereits thematisiert worden, dass Bilder Matrizen mit Zahlenwerten sind.\n",
    "Es gibt verschiedene Darstellungsformen, weswegen wir nun schauen, welche hier vorliegt."
   ]
  },
  {
   "cell_type": "code",
   "execution_count": null,
   "metadata": {},
   "outputs": [],
   "source": [
    "gray_image.min(), gray_image.max()"
   ]
  },
  {
   "cell_type": "markdown",
   "metadata": {},
   "source": [
    "Die Verteilung der Intensitätswerte kann man sich über ein Histogramm verdeutlichen."
   ]
  },
  {
   "cell_type": "code",
   "execution_count": null,
   "metadata": {},
   "outputs": [],
   "source": [
    "plt.hist(gray_image.flatten())\n",
    "plt.ylabel(\"Häufigkeit\")\n",
    "plt.xlabel(\"Intensitätswert der Pixel\")\n",
    "plt.show()"
   ]
  },
  {
   "cell_type": "markdown",
   "metadata": {},
   "source": [
    "$\\rightarrow$ Es ist die Darstellung zwischen 0 und 255 - die Zahlen repräsentieren die Intensitätswerte."
   ]
  },
  {
   "cell_type": "markdown",
   "metadata": {},
   "source": [
    "## Canny-Filter\n",
    "\n",
    "Aber wie kann man nun die Münzen automatisiert detektieren?\n",
    "Der Fragezeichenoperator ruft die Dokumentation einer Klasse oder einer Funktion auf."
   ]
  },
  {
   "cell_type": "code",
   "execution_count": null,
   "metadata": {},
   "outputs": [],
   "source": [
    "?cv2.Canny"
   ]
  },
  {
   "cell_type": "code",
   "execution_count": null,
   "metadata": {},
   "outputs": [],
   "source": [
    "edged_1 = cv2.Canny(gray_image, 1, 1)\n",
    "plt.title('Canny edges (1, 1)')\n",
    "plt.imshow(edged_1, cmap=\"gray\")\n",
    "plt.show()\n",
    "\n",
    "edged_2 = cv2.Canny(gray_image, 255, 255)\n",
    "plt.title('Canny edges (255, 255)')\n",
    "plt.imshow(edged_2, cmap=\"gray\")\n",
    "plt.show()"
   ]
  },
  {
   "cell_type": "markdown",
   "metadata": {},
   "source": [
    "**Aufgabe 1)**\n",
    "\n",
    "Auftrag:\n",
    "Finden Sie nun Werte für den Canny-Filter, mit dem man die Münzen am besten vom Hintergrund automatisch ausschneiden könnte.\n",
    "Die Verwendung einer `for`-Schleife kann dabei helfen, schneller mehr Filter auszuprobieren."
   ]
  },
  {
   "cell_type": "code",
   "execution_count": null,
   "metadata": {},
   "outputs": [],
   "source": [
    "# Probieren Sie sich hier aus. Verwenden Sie bei Bedarf auch gerne mehrere Zellen."
   ]
  },
  {
   "cell_type": "markdown",
   "metadata": {},
   "source": [
    "## Blob-Detektor\n",
    "\n",
    "Um Objekte zu identifizieren, stellt opencv Werkzeuge wie den Blob-Detektor bereit.\n",
    "Dieser ermittelt, wo gleichartige Flächen sind.\n",
    "Dies ist ein Algorithmus der traditionellen Bildverarbeitung und verwendet *kein* Maschinelles Lernen."
   ]
  },
  {
   "cell_type": "code",
   "execution_count": null,
   "metadata": {},
   "outputs": [],
   "source": [
    "detector = cv2.SimpleBlobDetector_create()\n",
    "keypoints = detector.detect(gray_image)\n",
    "\n",
    "[k.pt for k in keypoints]"
   ]
  },
  {
   "cell_type": "markdown",
   "metadata": {},
   "source": [
    "Dies kann man nun auch in das Bild einzeichnen"
   ]
  },
  {
   "cell_type": "code",
   "execution_count": null,
   "metadata": {},
   "outputs": [],
   "source": [
    "blobs = cv2.drawKeypoints(\n",
    "    gray_image,\n",
    "    keypoints,\n",
    "    np.zeros((1, 1)),\n",
    "    (255, 0, 0),\n",
    "    cv2.DRAW_MATCHES_FLAGS_DRAW_RICH_KEYPOINTS\n",
    ")\n",
    "plt.imshow(blobs)\n",
    "plt.show()"
   ]
  },
  {
   "cell_type": "markdown",
   "metadata": {},
   "source": [
    "Das Ergebnis ist noch nicht ganz überzeugend.\n",
    "Die zwei Punkte sind eingezeichnet worden - \n",
    "der eine Blob ist eine Münze, der zweite aber nur ein kleiner Ausschnitt auf der zweiten Münze von rechts oben.\n",
    "\n",
    "Die Standard-Parameter, die verwendet werden, wenn keine Werte angegeben werden, sind vielleicht nicht so gut geeignet.\n",
    "Nun passen wir manuell einzelne Parameter an.\n",
    "Weitere Informationen zur API von OpenCV gibt es [online](https://docs.opencv.org/3.4/d0/d7a/classcv_1_1SimpleBlobDetector.html), Beispiele bei stackoverflow."
   ]
  },
  {
   "cell_type": "code",
   "execution_count": null,
   "metadata": {},
   "outputs": [],
   "source": [
    "params = cv2.SimpleBlobDetector_Params()\n",
    "\n",
    "params.filterByArea = True\n",
    "params.filterByCircularity = False\n",
    "params.filterByColor = True\n",
    "params.filterByConvexity = False\n",
    "params.filterByInertia = False\n",
    "\n",
    "params.minArea = 250\n",
    "params.minThreshold = 15\n",
    "params.minDistBetweenBlobs = 10\n",
    "\n",
    "detector = cv2.SimpleBlobDetector_create(params)\n",
    "\n",
    "keypoints = detector.detect(gray_image)\n",
    "[(i + 1, k.pt) for i, k in enumerate(keypoints)]"
   ]
  },
  {
   "cell_type": "markdown",
   "metadata": {},
   "source": [
    "Auch dies können aufgrund der zu geringen Anzahl nicht die 24 Münzen sein."
   ]
  },
  {
   "cell_type": "code",
   "execution_count": null,
   "metadata": {},
   "outputs": [],
   "source": [
    "blobs = cv2.drawKeypoints(\n",
    "    gray_image,\n",
    "    keypoints,\n",
    "    np.zeros((1, 1)),\n",
    "    (255, 0, 0),\n",
    "    cv2.DRAW_MATCHES_FLAGS_DRAW_RICH_KEYPOINTS\n",
    ")\n",
    "plt.imshow(blobs)\n",
    "plt.show()"
   ]
  },
  {
   "cell_type": "markdown",
   "metadata": {},
   "source": [
    "Auch hier gibt es noch viele Baustellen:\n",
    "Manche Münzen werden gar nicht erkannt, manchmal werden nur Teile der Münze eingekreist u. ä.\n",
    "Dabei gibt es für den Blob-Detektor [gute Beispiele](https://www.learnopencv.com/blob-detection-using-opencv-python-c/) dafür, dass die Methode an sich funktioniert."
   ]
  },
  {
   "cell_type": "markdown",
   "metadata": {},
   "source": [
    "## Verknüpfe Canny-Filter und Blob-Detektor\n",
    "\n",
    "Nun kann man die Stärken verschiedener Methoden miteinander kombinieren.\n",
    "So kann man auch den Filter und den Detektor nacheinander ausführen.\n",
    "Das Bild wird zuerst gefiltert und der Detektor wird mit dem gefilterten Bild aufgerufen."
   ]
  },
  {
   "cell_type": "code",
   "execution_count": null,
   "metadata": {},
   "outputs": [],
   "source": [
    "params = cv2.SimpleBlobDetector_Params()\n",
    "\n",
    "params.filterByArea = True\n",
    "params.filterByCircularity = True\n",
    "params.filterByColor = False\n",
    "params.filterByConvexity = False\n",
    "params.filterByInertia = False\n",
    "\n",
    "params.minArea = 150\n",
    "params.minThreshold = 5\n",
    "params.minDistBetweenBlobs = 5\n",
    "params.minCircularity = 0.3\n",
    "\n",
    "detector = cv2.SimpleBlobDetector_create(params)\n",
    "\n",
    "keypoints = detector.detect(edged_2)\n",
    "[(i + 1, k.pt) for i, k in enumerate(keypoints)]"
   ]
  },
  {
   "cell_type": "code",
   "execution_count": null,
   "metadata": {},
   "outputs": [],
   "source": [
    "blobs = cv2.drawKeypoints(\n",
    "    gray_image,\n",
    "    keypoints,\n",
    "    np.zeros((1, 1)),\n",
    "    (255, 0, 0),\n",
    "    cv2.DRAW_MATCHES_FLAGS_DRAW_RICH_KEYPOINTS\n",
    ")\n",
    "plt.imshow(blobs)\n",
    "plt.show()"
   ]
  },
  {
   "cell_type": "markdown",
   "metadata": {},
   "source": [
    "Nun gibt es verschiedene Möglichkeiten, wie man weiterarbeiten kann.\n",
    "Die Parameter können nun weiter \"getunt\" werden, d. h. weiter anpassen, bis das gewünschte Ergebnis erreicht wird.\n",
    "Allerdings können auch der Filter und der Detektor ausgetauscht werden.\n",
    "OpenCV bietet viel mehr Möglichkeiten, und es gibt auch weitere Bibliotheken.\n",
    "Mit der Bibliothek `numpy` kann man sogar selbst Filter und Detektoren implementieren."
   ]
  },
  {
   "cell_type": "markdown",
   "metadata": {},
   "source": [
    "**Aufgabe 2a)**\n",
    "\n",
    "Frage:\n",
    "Wie lautet Ihre Hypothese, weswegen das Erkennen der Münzen auf dem Bild so schwierig ist?"
   ]
  },
  {
   "cell_type": "markdown",
   "metadata": {},
   "source": [
    "Antwort: ..."
   ]
  },
  {
   "cell_type": "markdown",
   "metadata": {},
   "source": [
    "**Aufgabe 2b)**\n",
    "\n",
    "Frage:\n",
    "Wie würden Sie in Zukunft den Prozess der Bildaufnahme gestalten, um die Erkennung der Münze zu vereinfachen?"
   ]
  },
  {
   "cell_type": "markdown",
   "metadata": {},
   "source": [
    "Antwort: ..."
   ]
  },
  {
   "cell_type": "markdown",
   "metadata": {},
   "source": [
    "<a rel=\"license\" href=\"http://creativecommons.org/licenses/by/4.0/\"><img alt=\"Creative Commons Lizenzvertrag\" style=\"border-width:0; display:inline\" src=\"https://i.creativecommons.org/l/by/4.0/88x31.png\" /></a> &nbsp;&nbsp;&nbsp;&nbsp;Dieses Werk von Marvin Kastner ist lizenziert unter einer <a rel=\"license\" href=\"http://creativecommons.org/licenses/by/4.0/\">Creative Commons Namensnennung 4.0 International Lizenz</a>."
   ]
  }
 ],
 "metadata": {
  "kernelspec": {
   "display_name": "Python 3",
   "language": "python",
   "name": "python3"
  },
  "language_info": {
   "codemirror_mode": {
    "name": "ipython",
    "version": 3
   },
   "file_extension": ".py",
   "mimetype": "text/x-python",
   "name": "python",
   "nbconvert_exporter": "python",
   "pygments_lexer": "ipython3",
   "version": "3.8.10"
  },
  "varInspector": {
   "cols": {
    "lenName": 16,
    "lenType": 16,
    "lenVar": 40
   },
   "kernels_config": {
    "python": {
     "delete_cmd_postfix": "",
     "delete_cmd_prefix": "del ",
     "library": "var_list.py",
     "varRefreshCmd": "print(var_dic_list())"
    },
    "r": {
     "delete_cmd_postfix": ") ",
     "delete_cmd_prefix": "rm(",
     "library": "var_list.r",
     "varRefreshCmd": "cat(var_dic_list()) "
    }
   },
   "types_to_exclude": [
    "module",
    "function",
    "builtin_function_or_method",
    "instance",
    "_Feature"
   ],
   "window_display": false
  }
 },
 "nbformat": 4,
 "nbformat_minor": 4
}
