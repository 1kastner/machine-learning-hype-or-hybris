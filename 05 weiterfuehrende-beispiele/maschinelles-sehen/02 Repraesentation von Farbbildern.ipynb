{
 "cells": [
  {
   "cell_type": "markdown",
   "metadata": {
    "slideshow": {
     "slide_type": "slide"
    }
   },
   "source": [
    "# Repräsentation von Farbbildern\n",
    "\n",
    "Farbbilder können als eine Erweiterung von Grauwertbildern angesehen werden.\n",
    "Aufgrund der Farben ist der Umgang mit den Matrizen etwas komplexer."
   ]
  },
  {
   "cell_type": "code",
   "execution_count": null,
   "metadata": {
    "slideshow": {
     "slide_type": "fragment"
    }
   },
   "outputs": [],
   "source": [
    "import imageio\n",
    "import matplotlib.pyplot as plt\n",
    "import skimage.transform\n",
    "import skimage.color\n",
    "import pandas as pd"
   ]
  },
  {
   "cell_type": "markdown",
   "metadata": {
    "slideshow": {
     "slide_type": "slide"
    }
   },
   "source": [
    "Zunächst wird ein Farbbild geladen."
   ]
  },
  {
   "cell_type": "code",
   "execution_count": null,
   "metadata": {
    "slideshow": {
     "slide_type": "fragment"
    }
   },
   "outputs": [],
   "source": [
    "color_image = imageio.imread(\"imageio:chelsea.png\")\n",
    "plt.imshow(color_image)\n",
    "plt.show()"
   ]
  },
  {
   "cell_type": "markdown",
   "metadata": {},
   "source": [
    "Das Bild verfügt, ebenso wie ein Grauwertbild, über eine Breite und eine Höhe.\n",
    "Darüber hinaus gibt es noch eine Anzahl von Layers.\n",
    "Grauwertbilder haben nur einen Layer, die Intensitätswerte.\n",
    "Farbbilder verfügen über mehrere Layer:\n",
    "Für die Farben Rot, Grün und Blau werden jeweils die Intensitätswerte angegeben."
   ]
  },
  {
   "cell_type": "code",
   "execution_count": null,
   "metadata": {
    "slideshow": {
     "slide_type": "fragment"
    }
   },
   "outputs": [],
   "source": [
    "height, width, dim = color_image.shape\n",
    "height, width, dim"
   ]
  },
  {
   "cell_type": "markdown",
   "metadata": {},
   "source": [
    "Hier ist anhand der Variablen `dim` zu erkennen, dass es drei Layer gibt."
   ]
  },
  {
   "cell_type": "markdown",
   "metadata": {
    "slideshow": {
     "slide_type": "slide"
    }
   },
   "source": [
    "Dieses Bild kann man sich auch als Matrix anzeigen lassen, indem man sich den Wert der Variablen `color_image` direkt anzeigen lässt."
   ]
  },
  {
   "cell_type": "code",
   "execution_count": null,
   "metadata": {
    "slideshow": {
     "slide_type": "fragment"
    }
   },
   "outputs": [],
   "source": [
    "color_image"
   ]
  },
  {
   "cell_type": "markdown",
   "metadata": {
    "slideshow": {
     "slide_type": "slide"
    }
   },
   "source": [
    "Man kann auf die einzelnen Farben mithilfe der Befehle `color_image[:,:,0]`, `color_image[:,:,1]` und `color_image[:,:,2]` direkt zugreifen.\n",
    "Dies entspricht den Intensitätswerten der Farben Rot, Grün und Blau."
   ]
  },
  {
   "cell_type": "code",
   "execution_count": null,
   "metadata": {
    "slideshow": {
     "slide_type": "fragment"
    }
   },
   "outputs": [],
   "source": [
    "plt.imshow(color_image[:,:,0], cmap=\"gray\")\n",
    "plt.show()\n",
    "plt.imshow(color_image[:,:,1], cmap=\"gray\")\n",
    "plt.show()\n",
    "plt.imshow(color_image[:,:,2], cmap=\"gray\")\n",
    "plt.show()"
   ]
  },
  {
   "cell_type": "markdown",
   "metadata": {
    "slideshow": {
     "slide_type": "fragment"
    }
   },
   "source": [
    "Das oberste Bild, das den Rotanteil repräsentiert ist sehr hell, sprich die Intensität ist hoch.\n",
    "Das unterste Bild, das den Blauanteil repräsentiert, ist eher dunkel, sprich die Intenität ist niedrig.\n",
    "Dadurch können wir darauf schließen, dass die Katze eher rötlich als bläulich aussieht.\n",
    "\n",
    "Eine andere Möglichkeit, dies zu visualisieren, sind Histogramme.\n",
    "Dafür werden mithilfe der Methode `flatten` alle Pixel nacheinander gesetzt und sind somit eine 1-dimensionale Liste.\n",
    "Dann werden die Häufigkeiten der Zahlenwerte analysiert."
   ]
  },
  {
   "cell_type": "code",
   "execution_count": null,
   "metadata": {
    "slideshow": {
     "slide_type": "slide"
    }
   },
   "outputs": [],
   "source": [
    "plt.hist(color_image[:,:,0].flatten(), bins='auto', color=\"red\", alpha=.4, label=\"rot\")\n",
    "plt.hist(color_image[:,:,1].flatten(), bins='auto', color=\"green\", alpha=.4, label=\"grün\")\n",
    "plt.hist(color_image[:,:,2].flatten(), bins='auto', color=\"darkblue\", alpha=.4, label=\"blau\")\n",
    "plt.title(\"Histogramm Rot-Grün-Blau\")\n",
    "plt.legend()\n",
    "plt.xlabel(\"Intensität des Pixels\")\n",
    "plt.ylabel(\"Anzahl an Pixeln\")\n",
    "plt.xlim([0, 255])\n",
    "plt.show()"
   ]
  },
  {
   "cell_type": "markdown",
   "metadata": {
    "slideshow": {
     "slide_type": "skip"
    }
   },
   "source": [
    "<a rel=\"license\" href=\"http://creativecommons.org/licenses/by/4.0/\"><img alt=\"Creative Commons Lizenzvertrag\" style=\"border-width:0; display:inline\" src=\"https://i.creativecommons.org/l/by/4.0/88x31.png\" /></a> &nbsp;&nbsp;&nbsp;&nbsp;Dieses Werk von Marvin Kastner ist lizenziert unter einer <a rel=\"license\" href=\"http://creativecommons.org/licenses/by/4.0/\">Creative Commons Namensnennung 4.0 International Lizenz</a>."
   ]
  }
 ],
 "metadata": {
  "kernelspec": {
   "display_name": "Python 3",
   "language": "python",
   "name": "python3"
  },
  "language_info": {
   "codemirror_mode": {
    "name": "ipython",
    "version": 3
   },
   "file_extension": ".py",
   "mimetype": "text/x-python",
   "name": "python",
   "nbconvert_exporter": "python",
   "pygments_lexer": "ipython3",
   "version": "3.8.5"
  },
  "varInspector": {
   "cols": {
    "lenName": 16,
    "lenType": 16,
    "lenVar": 40
   },
   "kernels_config": {
    "python": {
     "delete_cmd_postfix": "",
     "delete_cmd_prefix": "del ",
     "library": "var_list.py",
     "varRefreshCmd": "print(var_dic_list())"
    },
    "r": {
     "delete_cmd_postfix": ") ",
     "delete_cmd_prefix": "rm(",
     "library": "var_list.r",
     "varRefreshCmd": "cat(var_dic_list()) "
    }
   },
   "types_to_exclude": [
    "module",
    "function",
    "builtin_function_or_method",
    "instance",
    "_Feature"
   ],
   "window_display": false
  },
  "widgets": {
   "application/vnd.jupyter.widget-state+json": {
    "state": {},
    "version_major": 2,
    "version_minor": 0
   }
  }
 },
 "nbformat": 4,
 "nbformat_minor": 2
}
