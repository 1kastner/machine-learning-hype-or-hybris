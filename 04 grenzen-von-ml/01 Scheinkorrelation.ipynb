{
 "cells": [
  {
   "cell_type": "markdown",
   "metadata": {},
   "source": [
    "# Scheinkorrelation\n",
    "\n",
    "Das Konzept der Korrelation bezeichnet, dass zwischen zwei Attributen eine Kopplung besteht.\n",
    "Eine positive Korrelation bedeutet, dass zwei Dinge gemeinsam auftreten, z. B. bedeutet viel Autoverkehr in den Innenstädten eine höhere Schadstoffbelastung.\n",
    "Eine negative Korrelation bedeutet, dass die Kopplung umgekehrt ist.\n",
    "Je mehr Menschen mit dem Fahrrad fahren, desto weniger Autos sind in einer Stadt unterwegs.\n",
    "\n",
    "Eine Scheinkorrelation (Englisch: *spurious correlation*) bezeichnet den Fall, dass zwei Attribute rein zufällig miteinander korrelieren.\n",
    "In diesem Notebook wird gezeigt, weswegen Scheinkorrelationen für das Maschinelle Lernen eine Herausforderung darstellen."
   ]
  },
  {
   "cell_type": "code",
   "execution_count": null,
   "metadata": {},
   "outputs": [],
   "source": [
    "import random\n",
    "import pandas as pd\n",
    "import matplotlib.pyplot as plt"
   ]
  },
  {
   "cell_type": "markdown",
   "metadata": {},
   "source": [
    "Nun erstellen wir uns einen Datensatz mit 5 verschiedenen Attributen.\n",
    "In diesem Beispiel sind es, wie im Tennisdatensatz, Wetterbeobachtungen.\n",
    "Der Datensatz hat insgesamt 20 Reihen."
   ]
  },
  {
   "cell_type": "code",
   "execution_count": null,
   "metadata": {},
   "outputs": [],
   "source": [
    "# Fixiere Zufallsgenerator\n",
    "random.seed(0)\n",
    "\n",
    "number_rows = 20\n",
    "\n",
    "df = pd.DataFrame({\n",
    "    \"Outlook\": [random.choice([\"Sunny\", \"Overcast\", \"Rain\"]) for _ in range(number_rows)],\n",
    "    \"Temperature\": [random.choice([\"Hot\", \"Mild\", \"Cool\"]) for _ in range(number_rows)],\n",
    "    \"Humidity\": [random.choice([\"High\", \"Normal\"]) for _ in range(number_rows)],\n",
    "    \"Wind\": [random.choice([\"Weak\", \"Strong\"]) for _ in range(number_rows)],\n",
    "    \"Play Tennis?\": [random.choice([\"Yes\", \"No\"]) for _ in range(number_rows)],\n",
    "})\n",
    "\n",
    "df"
   ]
  },
  {
   "cell_type": "markdown",
   "metadata": {},
   "source": [
    "Für weitere Berechnungen werden die Kategorien in numerische Werte übersetzt.\n",
    "Hier verwenden wir nicht das One-Hot-Encoding, sondern enkodieren jede mögliche Ausprägung mit einem Zahlenwert."
   ]
  },
  {
   "cell_type": "code",
   "execution_count": null,
   "metadata": {},
   "outputs": [],
   "source": [
    "df_cat = df.assign(**{\n",
    "    col : df[col].astype('category').cat.codes for col in [\"Humidity\", \"Wind\", \"Play Tennis?\"]\n",
    "})\n",
    "df_cat = df_cat.assign(\n",
    "    Outlook=df[\"Outlook\"].astype(\n",
    "        pd.CategoricalDtype(categories=[\"Rain\", \"Overcast\", \"Sunny\"], ordered=True)).cat.codes,\n",
    "    Temperature=df[\"Temperature\"].astype(\n",
    "        pd.CategoricalDtype(categories=[\"Cool\", \"Mild\", \"Hot\"], ordered=True)).cat.codes    \n",
    ")\n",
    "df_cat"
   ]
  },
  {
   "cell_type": "markdown",
   "metadata": {},
   "source": [
    "Wir haben gerade gesehen, es wird die Bibliothek `random` benutzt, also sind sämtliche Attribute zufällig gewählt worden.\n",
    "Es darf also keinen Zusammenhang zwischen dem Wetter und der Frage geben, ob der Nachbar Tennis spielt!"
   ]
  },
  {
   "cell_type": "code",
   "execution_count": null,
   "metadata": {},
   "outputs": [],
   "source": [
    "import sklearn.tree\n",
    "dt = sklearn.tree.DecisionTreeClassifier()\n",
    "eingabe = df_cat[[\"Outlook\", \"Temperature\", \"Humidity\", \"Wind\"]]\n",
    "ziel = df_cat[[\"Play Tennis?\"]]\n",
    "X_train, X_test, y_train, y_test = sklearn.model_selection.train_test_split(eingabe, ziel, random_state=6)\n",
    "dt.fit(X_train, y_train)\n",
    "dt.score(X_test, y_test)"
   ]
  },
  {
   "cell_type": "markdown",
   "metadata": {},
   "source": [
    "Wir haben alles richtig gemacht:\n",
    "Wir haben mit den Trainings-Daten trainiert und mit den Test-Daten getestet.\n",
    "Irgendwas ist dennoch falsch gelaufen."
   ]
  },
  {
   "cell_type": "markdown",
   "metadata": {},
   "source": [
    "<span style=\"color:blue; font-weight:bold\">Aufgabe 1</span>\n",
    "\n",
    "Inspizieren Sie den Code und finden Sie eine Möglichkeit, das Problem zu beheben.\n",
    "Wie kann verhindert werden, dass der Entscheidungsbaum aus den Zufallsdaten scheinbar doch eine Prognose findet?\n",
    "Passen Sie gerne den Code direkt an und markieren sich mit Kommentaren, was Sie geändert haben."
   ]
  },
  {
   "cell_type": "markdown",
   "metadata": {},
   "source": [
    "<a rel=\"license\" href=\"http://creativecommons.org/licenses/by/4.0/\"><img alt=\"Creative Commons Lizenzvertrag\" style=\"border-width:0; display:inline\" src=\"https://i.creativecommons.org/l/by/4.0/88x31.png\" /></a> &nbsp;&nbsp;&nbsp;&nbsp;Dieses Werk von Marvin Kastner ist lizenziert unter einer <a rel=\"license\" href=\"http://creativecommons.org/licenses/by/4.0/\">Creative Commons Namensnennung 4.0 International Lizenz</a>."
   ]
  }
 ],
 "metadata": {
  "kernelspec": {
   "display_name": "Python 3",
   "language": "python",
   "name": "python3"
  },
  "language_info": {
   "codemirror_mode": {
    "name": "ipython",
    "version": 3
   },
   "file_extension": ".py",
   "mimetype": "text/x-python",
   "name": "python",
   "nbconvert_exporter": "python",
   "pygments_lexer": "ipython3",
   "version": "3.7.9"
  },
  "varInspector": {
   "cols": {
    "lenName": 16,
    "lenType": 16,
    "lenVar": 40
   },
   "kernels_config": {
    "python": {
     "delete_cmd_postfix": "",
     "delete_cmd_prefix": "del ",
     "library": "var_list.py",
     "varRefreshCmd": "print(var_dic_list())"
    },
    "r": {
     "delete_cmd_postfix": ") ",
     "delete_cmd_prefix": "rm(",
     "library": "var_list.r",
     "varRefreshCmd": "cat(var_dic_list()) "
    }
   },
   "types_to_exclude": [
    "module",
    "function",
    "builtin_function_or_method",
    "instance",
    "_Feature"
   ],
   "window_display": false
  }
 },
 "nbformat": 4,
 "nbformat_minor": 2
}
