{
 "cells": [
  {
   "cell_type": "markdown",
   "metadata": {},
   "source": [
    "# Scheinkorrelation bei abhängigen Messungen\n",
    "\n",
    "Das Konzept der Korrelation bezeichnet, dass zwischen zwei Attributen eine Kopplung besteht.\n",
    "Messungen sind bspw. dann voneinander abhängig, wenn man über einen Zeitverlauf ein Individuum beobachtet.\n",
    "Dann kann man nämlich häufig davon ausgehen, dass Ereignisse aus der Vergangneheit die zukünftigen Messwerte beeinflussen werden.\n",
    "Eine positive Korrelation hier, dass zwei Dinge gemeinsam auftreten, z. B. bedeutet die Zunahme von Autoverkehr in den Innenstädten eine gleichzeitige höhere Schadstoffbelastung.\n",
    "Eine negative Korrelation bedeutet, dass die Kopplung umgekehrt ist.\n",
    "Je höher der Bildungsstand von Frauen in einem Land ist, desto geringer fällt die Geburtenrate aus.\n",
    "Eine Scheinkorrelation (Englisch: *spurious correlation*) bezeichnet den Fall, dass zwei Attribute rein zufällig miteinander korrelieren.\n",
    "Hierfür gibt es auf http://www.tylervigen.com/spurious-correlations viele Beispiele.\n",
    "\n",
    "In diesem Notebook wird gezeigt, weswegen Scheinkorrelationen für das Maschinelle Lernen eine Herausforderung darstellen.\n",
    "Dabei schauen wir uns nun abhängige Messungen an."
   ]
  },
  {
   "cell_type": "code",
   "execution_count": null,
   "metadata": {},
   "outputs": [],
   "source": [
    "import random\n",
    "import pandas as pd\n",
    "import numpy as np\n",
    "import matplotlib.pyplot as plt\n",
    "from sklearn import model_selection\n",
    "from sklearn.ensemble import RandomForestRegressor"
   ]
  },
  {
   "cell_type": "markdown",
   "metadata": {},
   "source": [
    "Nun erstellen wir uns einen zufälligen Datensatz.\n",
    "Er soll aber doch nicht ganz zufällig sein, damit wir das Seminar rechtzeitig abschließen können.\n",
    "Deswegen setzen wir den Zufallsgenerator fest.\n",
    "Dadurch hat jeder Durchlauf die gleichen Ergebnisse."
   ]
  },
  {
   "cell_type": "code",
   "execution_count": null,
   "metadata": {},
   "outputs": [],
   "source": [
    "random.seed(0)"
   ]
  },
  {
   "cell_type": "markdown",
   "metadata": {},
   "source": [
    "## Exkurs: Der Random Walk\n",
    "\n",
    "Ein Random Walk bezeichnet eine Reihe von Zufallszahlen, wobei der letzte vorliegende Wert als Ausgang genommen wird.\n",
    "In der folgenden Implementierung wird für jeden Zeitschritt eine Münze geworfen, die entscheidet, ob der nächste Wert dem jetzigen Wert plus eins oder minus eins entspricht."
   ]
  },
  {
   "cell_type": "code",
   "execution_count": null,
   "metadata": {},
   "outputs": [],
   "source": [
    "def create_random_walk(n):\n",
    "    \"n: Länge des Random Walks\"\n",
    "    random_walk = []\n",
    "    \n",
    "    # Füge zufälliges Start-Element (-1 oder 1) ein\n",
    "    random_walk.append(-1 if random.random() < 0.5 else 1)\n",
    "\n",
    "    for i in range(n - 1):\n",
    "        movement = -1 if random.random() < 0.5 else 1  # nach oben oder unten?\n",
    "        value = random_walk[-1] + movement             # letzter Wert + neue Richtung\n",
    "        random_walk.append(value)\n",
    "    return random_walk\n",
    "\n",
    "create_random_walk(5)"
   ]
  },
  {
   "cell_type": "markdown",
   "metadata": {},
   "source": [
    "Dies ist sehr zufällig.\n",
    "Zur Verdeutlichung werden nun 5 verschiedene Random Walks visualisiert."
   ]
  },
  {
   "cell_type": "code",
   "execution_count": null,
   "metadata": {},
   "outputs": [],
   "source": [
    "for i in range(5):\n",
    "    plt.plot(create_random_walk(500))\n",
    "    plt.show()"
   ]
  },
  {
   "cell_type": "markdown",
   "metadata": {},
   "source": [
    "## Erstellung eines Datensatzes bestehend aus Random Walks\n",
    "\n",
    "Nun erstellen wir uns einen Datensatz mit 26 verschiedenen Attributen.\n",
    "Dies könnten zum Beispiel Sensormesswerte oder Eigenschaften von Benutzern sein.\n",
    "Der Datensatz hat insgesamt 100 Reihen, sprich so viele verschiedene Messungen bzw. Anzahl von Benutzern.\n",
    "Die Besonderheit hier ist nun, dass wir statt Zufallsvariablen Random Walks verwenden.\n",
    "Dies entspricht eher der Annahme, dass wir in fixen Zeitintervallen Messungen vornehmen.\n",
    "Hier entsprechen die Zeilen den Zeitschritten und die Spalten den verschiedenenen Messungen.\n",
    "Das könnten entweder verschiedene Attribute eines Untersuchungsgegenstandes sein oder die verschiedenen Untersuchungsgegenstände selber."
   ]
  },
  {
   "cell_type": "code",
   "execution_count": null,
   "metadata": {},
   "outputs": [],
   "source": [
    "df = pd.DataFrame(data={\n",
    "    column_name : create_random_walk(100)\n",
    "    for column_name in list('ABCDEFGHIJKLMNOPQRSTUVWXYZ')\n",
    "})\n",
    "df"
   ]
  },
  {
   "cell_type": "markdown",
   "metadata": {},
   "source": [
    "Auch hier hilft es, die Daten zuerst zu visualisieren."
   ]
  },
  {
   "cell_type": "code",
   "execution_count": null,
   "metadata": {},
   "outputs": [],
   "source": [
    "df.plot()\n",
    "plt.legend(bbox_to_anchor=(1.1, 1.05))\n",
    "plt.show()"
   ]
  },
  {
   "cell_type": "markdown",
   "metadata": {},
   "source": [
    "Hier können wir auch die Korrelation zwischen den verschiedenen Attributen betrachten."
   ]
  },
  {
   "cell_type": "code",
   "execution_count": null,
   "metadata": {},
   "outputs": [],
   "source": [
    "fig = plt.figure(figsize=(19, 15))\n",
    "plt.matshow(df.corr(), fignum=fig.number, cmap='RdBu', vmin=-1, vmax=1)\n",
    "plt.xticks(range(df.shape[1]), df.columns)\n",
    "plt.yticks(range(df.shape[1]), df.columns)\n",
    "plt.colorbar()\n",
    "plt.show()"
   ]
  },
  {
   "cell_type": "markdown",
   "metadata": {},
   "source": [
    "Es gibt klar ausgeprägte Scheinkorrelationen, sowohl positive als auch negative.\n",
    "Eine Gruppe von Variablen (die hoch mit M korrelieren) ist hier einmal herausgepickt worden:"
   ]
  },
  {
   "cell_type": "code",
   "execution_count": null,
   "metadata": {},
   "outputs": [],
   "source": [
    "df[list('FGHIMNQWX')].corr()"
   ]
  },
  {
   "cell_type": "markdown",
   "metadata": {},
   "source": [
    "Hier kann man sehr gut sehen, wie F und M negativ korrelieren: \n",
    "Wenn F ansteigt, tendierd M dazu, abzufallen.\n",
    "Dies kann man nun auch im Plot unten sehen:"
   ]
  },
  {
   "cell_type": "code",
   "execution_count": null,
   "metadata": {},
   "outputs": [],
   "source": [
    "df[list('FMQWXZ')].plot()\n",
    "plt.legend(bbox_to_anchor=(1.1, 1.05))\n",
    "plt.show()\n",
    "df[list('FM')].plot()\n",
    "plt.legend(bbox_to_anchor=(1.1, 1.05))\n",
    "plt.show()"
   ]
  },
  {
   "cell_type": "markdown",
   "metadata": {},
   "source": [
    "## Auswirkungen auf das Maschinelle Lernen\n",
    "\n",
    "Wie gehen die Lernalgorithmen hiermit um?\n",
    "Die Ausgabe eines Regressors ist schließlich die Kombination der Eingabeattribute.\n",
    "\n",
    "Hier wird $R^2$ (sprich: \"R Squared\") als Gütekriterium eingesetzt.\n",
    "Weiterführende Infos gibt es z. B. bei \n",
    "[Wikipedia](https://en.wikipedia.org/wiki/Coefficient_of_determination).\n",
    "Ein Wert von 1 bedeutet, dass das vorliegende Modell den Zielwert perfekt vorhersagt.\n",
    "Negative Werte bedeuten, dass es besser gewesen wäre, wenn der Durchschnitt als Vorhersage gewählt worden wäre.\n",
    "Dies bedeutet, dass das vorliegende Modell keinen Mehrwert bietet."
   ]
  },
  {
   "cell_type": "code",
   "execution_count": null,
   "metadata": {},
   "outputs": [],
   "source": [
    "regr = RandomForestRegressor(\n",
    "    n_estimators=3,\n",
    "    max_depth=2,\n",
    "    random_state=1\n",
    ")\n",
    "\n",
    "X = df[list('FMQWXZ')].values\n",
    "y = df[\"M\"].values\n",
    "\n",
    "train_scores = []\n",
    "test_scores = []\n",
    "for train_index, test_index in model_selection.TimeSeriesSplit(n_splits=10).split(X):\n",
    "    regr.fit(X[train_index], y[train_index])\n",
    "    train_score = regr.score(X[train_index], y[train_index])\n",
    "    test_score = regr.score(X[test_index], y[test_index])\n",
    "    train_scores.append(train_score)\n",
    "    test_scores.append(test_score)\n",
    "\n",
    "plt.plot(train_scores, label=\"Train\")\n",
    "plt.plot(test_scores, label=\"Test\")\n",
    "plt.show()\n",
    "pd.DataFrame(data={\n",
    "    \"Training R2\" : train_scores, \n",
    "    \"Test R2\" : test_scores\n",
    "})"
   ]
  },
  {
   "cell_type": "markdown",
   "metadata": {},
   "source": [
    "In Runde 2 und 3 beträgt der Wert von $R^2$ ca. 0,77.\n",
    "Das ist je nach Anwendungsfall ein bereits ein gutes Ergebnis.\n",
    "Alle Werte, die kleiner Null sind, zeigen, dass es besser gewesen wäre, statt dem Modell den Durchschnitt zu nehmen.\n",
    "Dies wird hier noch einmal isoliert gezeigt."
   ]
  },
  {
   "cell_type": "code",
   "execution_count": null,
   "metadata": {},
   "outputs": [],
   "source": [
    "regr = RandomForestRegressor(\n",
    "    n_estimators=3,\n",
    "    max_depth=2,\n",
    "    random_state=1\n",
    ")\n",
    "number_entries = len(df[\"M\"])\n",
    "regr.fit(X[0 : 30], \n",
    "         y[0 : 30]\n",
    ")\n",
    "regr.score(X[30 : 40],\n",
    "           y[30 : 40])"
   ]
  },
  {
   "cell_type": "markdown",
   "metadata": {},
   "source": [
    "Diesmal hat die Einteilung in Trainings- und Testset dabei geholfen, ein schlechtes Modell als solches zu identifizieren.\n",
    "Wenn wir aber Pech gehabt hätten, hätten nur die Daten vorgelegen, die eine Korrelation aufgezeigt haben.\n",
    "Deswegen benötigt Maschinelles Lernen Daten über einen langen Zeitraum.\n",
    "Denn wenn die Zeitreihen lang genug sind, wird sich durch Zufall höchstwahrscheinlich die Scheinkorrelation von alleine auflösen."
   ]
  },
  {
   "cell_type": "markdown",
   "metadata": {},
   "source": [
    "<a rel=\"license\" href=\"http://creativecommons.org/licenses/by/4.0/\"><img alt=\"Creative Commons Lizenzvertrag\" style=\"border-width:0; display:inline\" src=\"https://i.creativecommons.org/l/by/4.0/88x31.png\" /></a> &nbsp;&nbsp;&nbsp;&nbsp;Dieses Werk von Marvin Kastner ist lizenziert unter einer <a rel=\"license\" href=\"http://creativecommons.org/licenses/by/4.0/\">Creative Commons Namensnennung 4.0 International Lizenz</a>."
   ]
  }
 ],
 "metadata": {
  "kernelspec": {
   "display_name": "Python [conda env:ml-hype-or-hybris] *",
   "language": "python",
   "name": "conda-env-ml-hype-or-hybris-py"
  },
  "language_info": {
   "codemirror_mode": {
    "name": "ipython",
    "version": 3
   },
   "file_extension": ".py",
   "mimetype": "text/x-python",
   "name": "python",
   "nbconvert_exporter": "python",
   "pygments_lexer": "ipython3",
   "version": "3.7.6"
  },
  "varInspector": {
   "cols": {
    "lenName": 16,
    "lenType": 16,
    "lenVar": 40
   },
   "kernels_config": {
    "python": {
     "delete_cmd_postfix": "",
     "delete_cmd_prefix": "del ",
     "library": "var_list.py",
     "varRefreshCmd": "print(var_dic_list())"
    },
    "r": {
     "delete_cmd_postfix": ") ",
     "delete_cmd_prefix": "rm(",
     "library": "var_list.r",
     "varRefreshCmd": "cat(var_dic_list()) "
    }
   },
   "types_to_exclude": [
    "module",
    "function",
    "builtin_function_or_method",
    "instance",
    "_Feature"
   ],
   "window_display": false
  }
 },
 "nbformat": 4,
 "nbformat_minor": 2
}
