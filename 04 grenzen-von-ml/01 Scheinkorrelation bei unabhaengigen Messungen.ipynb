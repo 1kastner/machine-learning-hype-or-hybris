{
 "cells": [
  {
   "cell_type": "markdown",
   "metadata": {},
   "source": [
    "# Scheinkorrelation bei unabhängigen Messungen\n",
    "\n",
    "Das Konzept der Korrelation bezeichnet, dass zwischen zwei Attributen eine Kopplung besteht.\n",
    "Eine positive Korrelation bedeutet, dass zwei Dinge gemeinsam auftreten, z. B. bedeutet viel Autoverkehr in den Innenstädten eine höhere Schadstoffbelastung.\n",
    "Eine negative Korrelation bedeutet, dass die Kopplung umgekehrt ist.\n",
    "Je mehr Kühe auf einer Weide stehen, desto weniger Fläche bleibt der einzelnen Kuh.\n",
    "\n",
    "Eine Scheinkorrelation (Englisch: *spurious correlation*) bezeichnet den Fall, dass zwei Attribute rein zufällig miteinander korrelieren.\n",
    "Hierfür gibt es auf http://www.tylervigen.com/spurious-correlations viele Beispiele.\n",
    "\n",
    "In diesem Notebook wird gezeigt, weswegen Scheinkorrelationen für das Maschinelle Lernen eine Herausforderung darstellen.\n",
    "Dabei schauen wir uns unabhängige Messungen an."
   ]
  },
  {
   "cell_type": "code",
   "execution_count": null,
   "metadata": {},
   "outputs": [],
   "source": [
    "import random\n",
    "import pandas as pd\n",
    "import numpy as np\n",
    "import matplotlib.pyplot as plt"
   ]
  },
  {
   "cell_type": "markdown",
   "metadata": {},
   "source": [
    "Nun erstellen wir uns einen zufälligen Datensatz.\n",
    "Er soll aber doch nicht ganz zufällig sein, damit wir das Seminar rechtzeitig abschließen können.\n",
    "Deswegen setzen wir den Zufallsgenerator fest.\n",
    "Dadurch hat jeder Durchlauf die gleichen Ergebnisse."
   ]
  },
  {
   "cell_type": "code",
   "execution_count": null,
   "metadata": {},
   "outputs": [],
   "source": [
    "np.random.seed(0)"
   ]
  },
  {
   "cell_type": "markdown",
   "metadata": {},
   "source": [
    "Nun erstellen wir uns einen Datensatz mit 26 verschiedenen Attributen.\n",
    "Dies könnten zum Beispiel Sensormesswerte oder Eigenschaften von Benutzern sein.\n",
    "Der Datensatz hat insgesamt 100 Reihen, sprich so viele verschiedene Messungen bzw. Anzahl von Benutzern."
   ]
  },
  {
   "cell_type": "code",
   "execution_count": null,
   "metadata": {},
   "outputs": [],
   "source": [
    "df = pd.DataFrame(np.random.randint(0, 100, size=(100, 26)), columns=list('ABCDEFGHIJKLMNOPQRSTUVWXYZ'))\n",
    "df"
   ]
  },
  {
   "cell_type": "markdown",
   "metadata": {},
   "source": [
    "Nun visualisieren wir uns die Daten.\n",
    "Es ist eine sehr zufällige Punktewolke."
   ]
  },
  {
   "cell_type": "code",
   "execution_count": null,
   "metadata": {},
   "outputs": [],
   "source": [
    "df.plot(style=\".\")\n",
    "plt.legend(bbox_to_anchor=(1.1, 1.05))\n",
    "plt.show()"
   ]
  },
  {
   "cell_type": "markdown",
   "metadata": {},
   "source": [
    "Nun berechnen wir die Korrelation zwischen sämtlichen Attributen.\n",
    "Falls es eine Korrelation gibt, ist diese rein zufällig.\n",
    "Schließlich ist der gesamte Datensatz reiner Zufall.\n",
    "\n",
    "Die Interpretation von dem Korrelationskoeffizienten $r$ nach Cohen (1988):\n",
    "\n",
    "| Effekt                        | r     |\n",
    "|-------------------------------|-------|\n",
    "|großer negativer Effekt \t    | -.50  |\n",
    "|mittlerer negativer Effekt \t| -.30  |\n",
    "|kleiner negativer Effekt \t    | -.10  |\n",
    "|kleiner positiver Effekt \t    | .10   |\n",
    "|mittlerer positiver Effekt \t| .30   |\n",
    "|großer positiver Effekt \t    | .50   |\n",
    "\n",
    "Wenn der Wert um und bei 0 ist, spricht man davon, dass in den Daten keine Korrelation vorliegt.\n",
    "Nun schauen wir uns die Korrelation zwischen sämtlichen Attributen auf einmal an."
   ]
  },
  {
   "cell_type": "code",
   "execution_count": null,
   "metadata": {
    "scrolled": false
   },
   "outputs": [],
   "source": [
    "df.corr()"
   ]
  },
  {
   "cell_type": "markdown",
   "metadata": {},
   "source": [
    "Auffällig ist die Diagonale:\n",
    "Hier korreliert alles mit sich selbst mit `1`.\n",
    "Die ürbigen Korrelationen sind im Bereich der kleinen bis mittleren Effekte.\n",
    "Weil es ist schwierig ist, über die Zahlen einen Überblick zu behalten, plotten wir diese gleich noch mal."
   ]
  },
  {
   "cell_type": "code",
   "execution_count": null,
   "metadata": {},
   "outputs": [],
   "source": [
    "fig = plt.figure(figsize=(19, 15))\n",
    "plt.matshow(df.corr(), fignum=fig.number, cmap='RdBu', vmin=-1, vmax=1)\n",
    "plt.xticks(range(df.shape[1]), df.columns)\n",
    "plt.yticks(range(df.shape[1]), df.columns)\n",
    "plt.colorbar()\n",
    "plt.show()"
   ]
  },
  {
   "cell_type": "code",
   "execution_count": null,
   "metadata": {},
   "outputs": [],
   "source": [
    "cor_values = df.corr().values.flatten()\n",
    "cor_values = cor_values[cor_values != 1]  # Entferne die perfekten Korrelationen\n",
    "cor_values"
   ]
  },
  {
   "cell_type": "code",
   "execution_count": null,
   "metadata": {},
   "outputs": [],
   "source": [
    "pd.DataFrame(cor_values).plot.hist()\n",
    "plt.show()"
   ]
  },
  {
   "cell_type": "markdown",
   "metadata": {},
   "source": [
    "Hier lässt sich noch erkennen, dass jedes Attribut tatsächlich nur mit sich selbst korreliert und die übrigen zufälligen Korrelationen eher schwach ausgeprägt sind."
   ]
  },
  {
   "cell_type": "markdown",
   "metadata": {},
   "source": [
    "## Die Gefahr von Scheinkorrelation bei kleinen Datensätzen\n",
    "\n",
    "Wenn wir nun weniger Beobachtungen (Reihen) heranziehen, steigt die Gefahr, dass es zufällige Korrelationen gibt.\n",
    "Wenn wir nun nur 10 statt 100 Beobachtungen heranziehen, werden auf einmal in der Matrix bereits ganz andere Felder gelb, sprich es liegt eine hohe Korrelation vor.\n",
    "\n",
    "Ein Lernalgorithmus verfügt meist über keine inhaltlichen Konzepte.\n",
    "Jede Form von Korrelation wird genutzt, um Muster in den Daten zu erkennen - auch wenn diese Muster rein zufällig sind."
   ]
  },
  {
   "cell_type": "code",
   "execution_count": null,
   "metadata": {
    "scrolled": false
   },
   "outputs": [],
   "source": [
    "df_small = pd.DataFrame(np.random.randint(0, 10, size=(10, 26)), columns=list('ABCDEFGHIJKLMNOPQRSTUVWXYZ'))\n",
    "fig = plt.figure(figsize=(19, 15))\n",
    "plt.matshow(df_small.corr(), fignum=fig.number, cmap='RdBu', vmin=-1, vmax=1)\n",
    "plt.xticks(range(df_small.shape[1]), df_small.columns)\n",
    "plt.yticks(range(df_small.shape[1]), df_small.columns)\n",
    "cb = plt.colorbar()\n",
    "plt.show()"
   ]
  },
  {
   "cell_type": "code",
   "execution_count": null,
   "metadata": {},
   "outputs": [],
   "source": [
    "cor_values = df_small.corr().values.flatten()\n",
    "cor_values = cor_values[cor_values != 1]  # Entferne die perfekten Korrelationen\n",
    "pd.DataFrame(cor_values).plot.hist()\n",
    "plt.show()"
   ]
  },
  {
   "cell_type": "code",
   "execution_count": null,
   "metadata": {},
   "outputs": [],
   "source": [
    "cor_values[((cor_values < -.5) | (cor_values > .5))]"
   ]
  },
  {
   "cell_type": "markdown",
   "metadata": {},
   "source": [
    "## Die Gefahr von Scheinkorrelation bei zu vielen Attributen"
   ]
  },
  {
   "cell_type": "markdown",
   "metadata": {},
   "source": [
    "Das Gleiche passiert natürlich auch, wenn wir viel zu viele Attribute auf einmal betrachten.\n",
    "Dies ist mehr oder weniger der gleiche Fall wie oben.\n",
    "Wenn wir mehr Attribute haben, benötigen wir noch mehr Beobachtungen (Reihen im Datensatz), um eine Scheinkorrelation sehr unwahrscheinlich werden zu lassen."
   ]
  },
  {
   "cell_type": "code",
   "execution_count": null,
   "metadata": {
    "scrolled": false
   },
   "outputs": [],
   "source": [
    "df_large = pd.DataFrame(np.random.randint(0, 1000, size=(50, 500)), columns=list(range(500)))\n",
    "fig = plt.figure(figsize=(19, 15))\n",
    "plt.matshow(df_large.corr(), fignum=fig.number, cmap='RdBu', vmin=-1, vmax=1)\n",
    "plt.colorbar()\n",
    "plt.show()"
   ]
  },
  {
   "cell_type": "code",
   "execution_count": null,
   "metadata": {},
   "outputs": [],
   "source": [
    "cor_values = df_large.corr().values.flatten()\n",
    "cor_values = cor_values[cor_values != 1]  # Entferne die perfekten Korrelationen\n",
    "pd.DataFrame(cor_values).plot.hist()\n",
    "plt.show()"
   ]
  },
  {
   "cell_type": "code",
   "execution_count": null,
   "metadata": {},
   "outputs": [],
   "source": [
    "cor_values[((cor_values < -.5) | (cor_values > .5))]"
   ]
  }
 ],
 "metadata": {
  "kernelspec": {
   "display_name": "Python [conda env:ml-hype-or-hybris] *",
   "language": "python",
   "name": "conda-env-ml-hype-or-hybris-py"
  },
  "language_info": {
   "codemirror_mode": {
    "name": "ipython",
    "version": 3
   },
   "file_extension": ".py",
   "mimetype": "text/x-python",
   "name": "python",
   "nbconvert_exporter": "python",
   "pygments_lexer": "ipython3",
   "version": "3.7.5"
  }
 },
 "nbformat": 4,
 "nbformat_minor": 2
}
