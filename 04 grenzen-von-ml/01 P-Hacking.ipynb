{
 "cells": [
  {
   "cell_type": "markdown",
   "metadata": {
    "slideshow": {
     "slide_type": "slide"
    }
   },
   "source": [
    "# Grenzen des Maschinellen Lernens\n",
    "\n",
    "Das Konzept p-Hacking beschreibt, wie man absichtlich so lange die Auswertung der eigenen Daten verändert, bis auf einmal das Modell eine sehr hohe Güte erreicht, ohne dass es dafür eine inhaltliche Erklärung gibt.\n",
    "Dieses Konzept stammt aus der Statistik, wo ein zuvor festgeleget p-Wert unterschritten werden soll, was angeblich eine besonders hohe Güte des Modells belegen soll.\n",
    "Beim Maschinellen Lernen werden andere Werte, wie z. B. die Genauigkeit, zum Messen verwendet - so besagt eine hohe Genauigkeit, dass das Modell eine hohe Güte hat.\n",
    "Deswegen haben wir es strenggenommen im Folgenden mit Genauigkeits-Hacking zu tun.\n",
    "Aber ist es wirklich gut, sich alleine auf eine Metrik (p-Wert, Genauigkeit, ...) zu verlassen?\n",
    "\n",
    "Um besonders gute Genauigkeitswerte zu erhalten, können z. B. Scheinkorrelationen oder andere nicht-lineare zufällige Zusammenhänge ausgenutzt werden.\n",
    "Wenn genügend Daten gleichzeitig betrachtet werden, gibt es mit hoher Wahrscheinlichkeit ein Attribut, welches einen Zusammenhang mit der Zielvariable aufweist.\n",
    "Deswegen sollte immer sehr kritisch betrachtet werden, aus welchen Daten welches Ergebnis angeblich vorhersagbar sein soll.\n",
    "\n",
    "So Verhalten ist ein Problem für alle Bereiche:\n",
    "In der Wissenschaft werden unter Umständen falsche Annahmen und Vorhersagemodelle verwendet.\n",
    "In der Praxis bedeutet es, dass ggf. defekte Vorhersagemodelle in den Betrieb aufgenommen werden.\n",
    "Sobald sich jemand auf die Vorhersagen des falschen Modells verlässt, kann dies zu ernsthaften Schäden an Menschen oder Umwelt führen.\n",
    "Ebenso sind finanzielle Schäden nicht ausgeschlossen."
   ]
  },
  {
   "cell_type": "code",
   "execution_count": null,
   "metadata": {
    "slideshow": {
     "slide_type": "fragment"
    }
   },
   "outputs": [],
   "source": [
    "import random\n",
    "import pandas as pd\n",
    "import numpy as np\n",
    "import matplotlib.pyplot as plt\n",
    "from sklearn.ensemble import RandomForestClassifier"
   ]
  },
  {
   "cell_type": "markdown",
   "metadata": {
    "slideshow": {
     "slide_type": "notes"
    }
   },
   "source": [
    "Es wird zunächst ein Datensatz mit zufälligen Attribute erzeugt.\n",
    "Dies könnte z. B. die Zahlenrepräsentation von nominalskalierten Attributen sein."
   ]
  },
  {
   "cell_type": "code",
   "execution_count": null,
   "metadata": {
    "slideshow": {
     "slide_type": "slide"
    }
   },
   "outputs": [],
   "source": [
    "# Fixiere Zufallsgenerator\n",
    "random.seed(0)\n",
    "\n",
    "number_rows = 20\n",
    "\n",
    "df = pd.DataFrame({\n",
    "    \"Outlook\": [random.choice([\"Sunny\", \"Overcast\", \"Rain\"]) for _ in range(number_rows)],\n",
    "    \"Temperature\": [random.choice([\"Hot\", \"Mild\", \"Cool\"]) for _ in range(number_rows)],\n",
    "    \"Humidity\": [random.choice([\"High\", \"Normal\"]) for _ in range(number_rows)],\n",
    "    \"Wind\": [random.choice([\"Weak\", \"Strong\"]) for _ in range(number_rows)],\n",
    "    \"Play Tennis?\": [random.choice([\"Yes\", \"No\"]) for _ in range(number_rows)],\n",
    "})\n",
    "\n",
    "df"
   ]
  },
  {
   "cell_type": "code",
   "execution_count": null,
   "metadata": {},
   "outputs": [],
   "source": [
    "df_cat = df.assign(**{\n",
    "    col : df[col].astype('category').cat.codes for col in [\"Humidity\", \"Wind\", \"Play Tennis?\"]\n",
    "})\n",
    "df_cat = df_cat.assign(\n",
    "    Outlook=df[\"Outlook\"].astype(\n",
    "        pd.CategoricalDtype(categories=[\"Rain\", \"Overcast\", \"Sunny\"], ordered=True)).cat.codes,\n",
    "    Temperature=df[\"Temperature\"].astype(\n",
    "        pd.CategoricalDtype(categories=[\"Cool\", \"Mild\", \"Hot\"], ordered=True)).cat.codes    \n",
    ")\n",
    "df_cat"
   ]
  },
  {
   "cell_type": "markdown",
   "metadata": {},
   "source": [
    "Nun lass uns betrachten, ob der Entscheidungsbaum einen zufälligen Zusammenhang findet, und das Kreuzvalidierungsergebnis dennoch gut aussieht."
   ]
  },
  {
   "cell_type": "code",
   "execution_count": null,
   "metadata": {},
   "outputs": [],
   "source": [
    "import sklearn.tree\n",
    "dt = sklearn.tree.DecisionTreeClassifier()\n",
    "eingabe = df_cat[list(set(df_cat.columns) - set([\"Play Tennis?\"]))]\n",
    "\n",
    "ziel = df[\"Play Tennis?\"]\n",
    "X_train, X_test, y_train, y_test = sklearn.model_selection.train_test_split(eingabe, ziel, random_state=42)\n",
    "dt.fit(X_train, y_train)\n",
    "dt.score(X_test, y_test)"
   ]
  },
  {
   "cell_type": "markdown",
   "metadata": {},
   "source": [
    "<span style=\"color:blue; font-weight:bold\">Aufgabe 1</span>\n",
    "\n",
    "Interpretieren Sie den Zahlenwert.\n",
    "Liegt hier eine Scheinkorrelation vor?\n",
    "Ist dieses Ergebnis plausibel?\n",
    "Warum (nicht)?"
   ]
  },
  {
   "cell_type": "markdown",
   "metadata": {},
   "source": [
    "*Antwort*: ..."
   ]
  },
  {
   "cell_type": "markdown",
   "metadata": {
    "slideshow": {
     "slide_type": "slide"
    }
   },
   "source": [
    "## Feature Engineering falsch gemacht\n",
    "\n",
    "Normalerweise hilft Feature Engineering dabei, zielführende Zahlenwerte zu generieren.\n",
    "So ist es z. B. sinnvoll, statt einem Start- und einem Endzeitpunkt lieber gleich die Zeitspanne zu generieren, oder statt einer Länge und einer Breite gleich die Fläche zu berechnen.\n",
    "Es gibt aber auch Fälle, in denen Projektverantwortliche beliebige Attribute addiert, multipliziert etc. haben, ohne dass es dafür eine inhaltliche Rechtfertigung gab.\n",
    "Genau das werden wir jetzt auf die Spitze treiben.\n",
    "\n",
    "Nun werden wir so lange neue Attribute erstellen, bis wir (mindestens) eines finden, mit dem der Entscheidungsbaum zu einem guten Ergebnis kommt."
   ]
  },
  {
   "cell_type": "code",
   "execution_count": null,
   "metadata": {
    "slideshow": {
     "slide_type": "slide"
    }
   },
   "outputs": [],
   "source": [
    "# Hier werden die Additionen zweier Attribute gespeichert\n",
    "new_columns = {}\n",
    "\n",
    "for column_A in list(set(df_cat.columns) - set([\"Play Tennis?\"])):\n",
    "    for column_B in list(set(df_cat.columns) - set([\"Play Tennis?\"])):\n",
    "        if column_A == column_B:\n",
    "            continue\n",
    "            \n",
    "        addition = df_cat[column_A] + df_cat[column_B]\n",
    "        addition.name = f\"{column_A} + {column_B}\"\n",
    "        new_columns.update({addition.name : addition})\n",
    "\n",
    "        multiplication = df_cat[column_A] * df_cat[column_B]\n",
    "        multiplication.name = f\"{column_A} * {column_B}\"\n",
    "        new_columns.update({multiplication.name : multiplication})\n"
   ]
  },
  {
   "cell_type": "markdown",
   "metadata": {
    "slideshow": {
     "slide_type": "notes"
    }
   },
   "source": [
    "Diese kreierten Attribute fügen wir nun dem DataFrame hinzu."
   ]
  },
  {
   "cell_type": "code",
   "execution_count": null,
   "metadata": {
    "slideshow": {
     "slide_type": "fragment"
    }
   },
   "outputs": [],
   "source": [
    "df_extended = df_cat.assign(**new_columns)\n",
    "\n",
    "df_extended"
   ]
  },
  {
   "cell_type": "markdown",
   "metadata": {},
   "source": [
    "Nun lass uns sehen, ob der Entscheidungsbaum mit diesen generierten Features besser arbeiten kann:"
   ]
  },
  {
   "cell_type": "code",
   "execution_count": null,
   "metadata": {
    "scrolled": false,
    "slideshow": {
     "slide_type": "slide"
    }
   },
   "outputs": [],
   "source": [
    "ziel = df_extended[\"Play Tennis?\"]\n",
    "eingabe = df_extended[list(set(df_extended.columns) - set([\"Play Tennis?\"]))]\n",
    "\n",
    "dt = sklearn.tree.DecisionTreeClassifier(random_state=1)\n",
    "X_train, X_test, y_train, y_test = sklearn.model_selection.train_test_split(eingabe, ziel, random_state=6)\n",
    "dt.fit(X_train, y_train)\n",
    "dt.score(X_test, y_test)"
   ]
  },
  {
   "cell_type": "markdown",
   "metadata": {},
   "source": [
    "<span style=\"color:blue; font-weight:bold\">Aufgabe 2</span>\n",
    "\n",
    "Interpretieren Sie den Zahlenwert.\n",
    "Liegt hier eine Scheinkorrelation vor?\n",
    "Ist dieses Ergebnis plausibel?\n",
    "Warum (nicht)?"
   ]
  },
  {
   "cell_type": "markdown",
   "metadata": {},
   "source": [
    "*Antwort*: ..."
   ]
  },
  {
   "cell_type": "markdown",
   "metadata": {},
   "source": [
    "<span style=\"color:blue; font-weight:bold\">Aufgabe 3</span>\n",
    "\n",
    "Stellen Sie sich vor, ein Dienstleister würde Ihnen das obige Ergebnis präsentieren.\n",
    "Wären Sie mit dem Ergebnis zufrieden?\n",
    "Warum (nicht)?"
   ]
  },
  {
   "cell_type": "markdown",
   "metadata": {},
   "source": [
    "*Antwort*: ..."
   ]
  },
  {
   "cell_type": "markdown",
   "metadata": {},
   "source": [
    "<span style=\"color:blue; font-weight:bold\">Aufgabe 4</span>\n",
    "\n",
    "Mit welchen Maßnahmen können Sie sicherstellen, dass ein Dienstleister Sie nicht mit Tricks wie P-Hacking hereinlegen kann?\n",
    "Gehen Sie davon aus, dass Sie den Source Code nicht einsehen können."
   ]
  },
  {
   "cell_type": "markdown",
   "metadata": {},
   "source": [
    "*Antwort*: ..."
   ]
  },
  {
   "cell_type": "markdown",
   "metadata": {},
   "source": [
    "<a rel=\"license\" href=\"http://creativecommons.org/licenses/by/4.0/\"><img alt=\"Creative Commons Lizenzvertrag\" style=\"border-width:0; display:inline\" src=\"https://i.creativecommons.org/l/by/4.0/88x31.png\" /></a> &nbsp;&nbsp;&nbsp;&nbsp;Dieses Werk von Marvin Kastner ist lizenziert unter einer <a rel=\"license\" href=\"http://creativecommons.org/licenses/by/4.0/\">Creative Commons Namensnennung 4.0 International Lizenz</a>."
   ]
  }
 ],
 "metadata": {
  "kernelspec": {
   "display_name": "Python 3",
   "language": "python",
   "name": "python3"
  },
  "language_info": {
   "codemirror_mode": {
    "name": "ipython",
    "version": 3
   },
   "file_extension": ".py",
   "mimetype": "text/x-python",
   "name": "python",
   "nbconvert_exporter": "python",
   "pygments_lexer": "ipython3",
   "version": "3.8.5"
  },
  "varInspector": {
   "cols": {
    "lenName": 16,
    "lenType": 16,
    "lenVar": 40
   },
   "kernels_config": {
    "python": {
     "delete_cmd_postfix": "",
     "delete_cmd_prefix": "del ",
     "library": "var_list.py",
     "varRefreshCmd": "print(var_dic_list())"
    },
    "r": {
     "delete_cmd_postfix": ") ",
     "delete_cmd_prefix": "rm(",
     "library": "var_list.r",
     "varRefreshCmd": "cat(var_dic_list()) "
    }
   },
   "types_to_exclude": [
    "module",
    "function",
    "builtin_function_or_method",
    "instance",
    "_Feature"
   ],
   "window_display": false
  }
 },
 "nbformat": 4,
 "nbformat_minor": 2
}
