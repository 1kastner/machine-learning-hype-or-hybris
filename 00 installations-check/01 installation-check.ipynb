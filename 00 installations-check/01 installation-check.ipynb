{
 "cells": [
  {
   "cell_type": "markdown",
   "metadata": {},
   "source": [
    "# Installation Check\n",
    "\n",
    "Dieses Jupyter Notebook überprüft, ob man sich in dieser Umgebung befindet und ob die Bibliotheken installiert worden sind."
   ]
  },
  {
   "cell_type": "markdown",
   "metadata": {},
   "source": [
    "## In welcher Conda-Umgebung befinden wir uns?\n",
    "\n",
    "Wenn die IDE Jupyter Notebook aus der richtigen Conda-Umgebung heraus gestartet worden ist,\n",
    "sollte dies `ml-hype-or-hybris` sein.\n",
    "\n",
    "Nun schauen wir uns die Liste der Conda-Umgebungen an.\n",
    "Um die folgende Zelle auszuführen, drücken Sie, während die Zelle markiert ist, entweder oben auf `▶ Run` oder geben Sie gleichzeitig Umschalt+Enter ein."
   ]
  },
  {
   "cell_type": "code",
   "execution_count": null,
   "metadata": {},
   "outputs": [],
   "source": [
    "!conda env list"
   ]
  },
  {
   "cell_type": "markdown",
   "metadata": {},
   "source": [
    "Das Sternchen markiert die aktuell aktive Umgebung.\n",
    "Dies sollte `ml-hype-or-hybris` sein.\n",
    "\n",
    "Falls dies nicht der Fall ist, haben Sie Jupyter Notebook nicht aus der entsprechenden Umgebung heraus gestartet.\n",
    "Bitte schließen Sie dann sämtliche Reiter von dieser laufenden Jupyter Notebook Session (also die Übersichtsseite, die die mit `Home Page - Select or create a notebook` betitelt ist, ebenso wie den Reiter, in dem Sie diesen Text lesen).\n",
    "Gehen Sie zurück zur Anleitung und starten Sie Jupyter Notebook über den Anaconda Navigator in der richtigen Umgebung."
   ]
  },
  {
   "cell_type": "markdown",
   "metadata": {},
   "source": [
    "## Sind Jupyter Notebook Extensions installiert?\n",
    "\n",
    "Die Extensions sind praktische Erweiterungen für die IDE.\n",
    "Diese sollten bereits automatisch zusammen mit der Conda-Umgebung installiert worden sein.\n",
    "\n",
    "Gehen Sie auf den entsprechenden Reiter (vgl. Screenshot).\n",
    "![](./nbextensions-tab.png)\n",
    "\n",
    "Dies sollte nun ungefähr wie folgt aussehen:\n",
    "![](./nbextensions-overview.png)\n",
    "\n",
    "Diese Extensions erweitern die Entwicklungsumgebung um typische Anpassungsmöglichkeiten von Entwicklungsumgebungen sowie Jupyter-Notebook-spezifischen Features.\n",
    "Ggf. müssen Sie zunächst den Haken in der Checkbox entfernen, um die nbextensions verwenden zu können.\n",
    "Keine der Erweiterungen werden zwingend für das Seminar benötigt, bei persönlichen Vorlieben können Sie aber die IDE vorher schon an Ihre persönlichen Vorlieben ausrichten."
   ]
  },
  {
   "cell_type": "markdown",
   "metadata": {},
   "source": [
    "## Sind alle Bibliotheken installiert?\n",
    "\n",
    "Bibliotheken fassen häufig benötigte Funktionalitäten zusammen und vereinfachen die Entwicklung in einer Programmiersprache.\n",
    "Alle benötigten Bibliotheken sollten eigentlich bereits automatisch mit dem Erstellen der Umgebung `ml-hype-or-hybris` erstellt werden."
   ]
  },
  {
   "cell_type": "code",
   "execution_count": null,
   "metadata": {},
   "outputs": [],
   "source": [
    "required_libraries = \"\"\"\n",
    "sklearn\n",
    "skimage\n",
    "pandas\n",
    "numpy\n",
    "seaborn\n",
    "matplotlib\n",
    "\"\"\"\n",
    "\n",
    "for lib in [lib for lib in required_libraries.split(\"\\n\") if lib]:\n",
    "    print(f\"Importing {lib}...\")\n",
    "    lib_module = __import__(lib)\n",
    "    print(f\"{lib} imported in version {lib_module.__version__}\")"
   ]
  },
  {
   "cell_type": "markdown",
   "metadata": {},
   "source": [
    "<a rel=\"license\" href=\"http://creativecommons.org/licenses/by/4.0/\"><img alt=\"Creative Commons Lizenzvertrag\" style=\"border-width:0; display:inline\" src=\"https://i.creativecommons.org/l/by/4.0/88x31.png\" /></a> &nbsp;&nbsp;&nbsp;&nbsp;Dieses Werk von Marvin Kastner ist lizenziert unter einer <a rel=\"license\" href=\"http://creativecommons.org/licenses/by/4.0/\">Creative Commons Namensnennung 4.0 International Lizenz</a>."
   ]
  }
 ],
 "metadata": {
  "kernelspec": {
   "display_name": "Python 3",
   "language": "python",
   "name": "python3"
  },
  "language_info": {
   "codemirror_mode": {
    "name": "ipython",
    "version": 3
   },
   "file_extension": ".py",
   "mimetype": "text/x-python",
   "name": "python",
   "nbconvert_exporter": "python",
   "pygments_lexer": "ipython3",
   "version": "3.7.9"
  },
  "varInspector": {
   "cols": {
    "lenName": 16,
    "lenType": 16,
    "lenVar": 40
   },
   "kernels_config": {
    "python": {
     "delete_cmd_postfix": "",
     "delete_cmd_prefix": "del ",
     "library": "var_list.py",
     "varRefreshCmd": "print(var_dic_list())"
    },
    "r": {
     "delete_cmd_postfix": ") ",
     "delete_cmd_prefix": "rm(",
     "library": "var_list.r",
     "varRefreshCmd": "cat(var_dic_list()) "
    }
   },
   "types_to_exclude": [
    "module",
    "function",
    "builtin_function_or_method",
    "instance",
    "_Feature"
   ],
   "window_display": false
  }
 },
 "nbformat": 4,
 "nbformat_minor": 4
}
