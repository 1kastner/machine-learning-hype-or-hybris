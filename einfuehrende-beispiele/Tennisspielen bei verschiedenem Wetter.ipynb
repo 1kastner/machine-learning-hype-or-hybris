{
 "cells": [
  {
   "cell_type": "markdown",
   "metadata": {},
   "source": [
    "# Tennisspielen bei verschiedenem Wetter\n",
    "\n",
    "Für Aufgaben, die typisch für Excel wären, kann man in Python sehr gut auf die Bibliothek pandas zurückgreifen."
   ]
  },
  {
   "cell_type": "code",
   "execution_count": null,
   "metadata": {},
   "outputs": [],
   "source": [
    "import pandas as pd"
   ]
  },
  {
   "cell_type": "markdown",
   "metadata": {},
   "source": [
    "In Jupyter Notebooks ist das Fragezeichen als Operator dafür da, um Hilfe anzuzeigen.\n",
    "Dies funktioniert für Module, aber auch für Datentypen etc.\n",
    "Außerdem lässt sich für alles über google immer schnell der entsprechende Handbucheintrag finden.\n",
    "Ebenfalls ist stackoverflow eine beliebte Informationsquelle."
   ]
  },
  {
   "cell_type": "code",
   "execution_count": null,
   "metadata": {},
   "outputs": [],
   "source": [
    "?pd"
   ]
  },
  {
   "cell_type": "code",
   "execution_count": null,
   "metadata": {},
   "outputs": [],
   "source": [
    "df = pd.read_csv(\"tennis.tsv\", sep=\" \\t\", engine=\"python\")\n",
    "df"
   ]
  },
  {
   "cell_type": "code",
   "execution_count": null,
   "metadata": {},
   "outputs": [],
   "source": [
    "df.info()"
   ]
  },
  {
   "cell_type": "code",
   "execution_count": null,
   "metadata": {},
   "outputs": [],
   "source": [
    "df.describe()"
   ]
  },
  {
   "cell_type": "code",
   "execution_count": null,
   "metadata": {},
   "outputs": [],
   "source": [
    "other_columns = set(df.columns) - set([\"Day\"])\n",
    "other_columns"
   ]
  },
  {
   "cell_type": "code",
   "execution_count": null,
   "metadata": {},
   "outputs": [],
   "source": [
    "for column in other_columns:\n",
    "    print()\n",
    "    print(\"Attribut: \", column, \"\\n\")\n",
    "    print(df[column].value_counts())\n",
    "    print()"
   ]
  },
  {
   "cell_type": "markdown",
   "metadata": {},
   "source": [
    "Es wird häufiger Tennis gespielt als nicht gespielt.\n",
    "Daraus können wir uns nun ein dummes Vorhersagewerkzeug basteln.\n",
    "Es wird einfach getippt, dass der Nachbar immer Tennis spielen geht!"
   ]
  },
  {
   "cell_type": "code",
   "execution_count": null,
   "metadata": {},
   "outputs": [],
   "source": [
    "df = df.assign(stupid_guess=[\"Yes\" for _ in range(len(df))])\n",
    "\n",
    "df"
   ]
  },
  {
   "cell_type": "markdown",
   "metadata": {},
   "source": [
    "## Metriken\n",
    "\n",
    "Wie gut ist denn nun das dumme Vorhersagewerkzeug?\n",
    "Wie kann man das messen?\n",
    "Auf https://de.wikipedia.org/wiki/Beurteilung_eines_bin%C3%A4ren_Klassifikators findet man zu dem Thema Hilfe.\n",
    "In diesem Beispiel ist die Treffergenauigkeit geeignet.\n",
    "Diese drückt aus, in wie viel Prozent der Fälle die Klassifikation richtig war.\n",
    "\n",
    "Das müssen wir nicht selbst implementieren, dafür gibt es bereits eine Bibliothek in Python."
   ]
  },
  {
   "cell_type": "code",
   "execution_count": null,
   "metadata": {},
   "outputs": [],
   "source": [
    "import sklearn.metrics"
   ]
  },
  {
   "cell_type": "code",
   "execution_count": null,
   "metadata": {},
   "outputs": [],
   "source": [
    "sklearn.metrics.accuracy_score(df[\"Play Tennis?\"], df[\"stupid_guess\"])"
   ]
  },
  {
   "cell_type": "markdown",
   "metadata": {},
   "source": [
    "In 64 % der Fälle liegen wir also damit richtig.\n",
    "\n",
    "Wie würde es aussehen, wenn wir immer eine Münze werfen?\n",
    "Dafür gibt es ein weiteres Modul."
   ]
  },
  {
   "cell_type": "code",
   "execution_count": null,
   "metadata": {},
   "outputs": [],
   "source": [
    "import random"
   ]
  },
  {
   "cell_type": "code",
   "execution_count": null,
   "metadata": {},
   "outputs": [],
   "source": [
    "def random_guess():\n",
    "    return [\"Yes\" if random.random() > .5 else \"No\" \n",
    "            for _ in range(len(df))]\n",
    "\n",
    "random_guess()"
   ]
  },
  {
   "cell_type": "code",
   "execution_count": null,
   "metadata": {},
   "outputs": [],
   "source": [
    "for i in range(10):\n",
    "    this_guess = random_guess()\n",
    "    accuracy = sklearn.metrics.accuracy_score(df[\"Play Tennis?\"], this_guess)\n",
    "    print(f\"{i+1:02}) Zufälliges Ergebnis: {accuracy}\")"
   ]
  },
  {
   "cell_type": "markdown",
   "metadata": {},
   "source": [
    "## Verwende einen Entscheidungsbaum"
   ]
  },
  {
   "cell_type": "code",
   "execution_count": null,
   "metadata": {},
   "outputs": [],
   "source": [
    "import sklearn.tree"
   ]
  },
  {
   "cell_type": "code",
   "execution_count": null,
   "metadata": {},
   "outputs": [],
   "source": [
    "dt = sklearn.tree.DecisionTreeClassifier()"
   ]
  },
  {
   "cell_type": "code",
   "execution_count": null,
   "metadata": {},
   "outputs": [],
   "source": [
    "?dt"
   ]
  },
  {
   "cell_type": "markdown",
   "metadata": {},
   "source": [
    "Die Eingabe "
   ]
  },
  {
   "cell_type": "code",
   "execution_count": null,
   "metadata": {},
   "outputs": [],
   "source": [
    "eingabe = df[[\"Day\", \"Outlook\", \"Temperature\", \"Humidity\", \"Wind\"]]\n",
    "eingabe"
   ]
  },
  {
   "cell_type": "code",
   "execution_count": null,
   "metadata": {},
   "outputs": [],
   "source": [
    "ziel = df[[\"Play Tennis?\"]]\n",
    "ziel"
   ]
  },
  {
   "cell_type": "markdown",
   "metadata": {},
   "source": [
    "Nun wird der Zusammenhang zwischen Eingabe und der Beobachtung gelernt"
   ]
  },
  {
   "cell_type": "code",
   "execution_count": null,
   "metadata": {},
   "outputs": [],
   "source": [
    "dt.fit(eingabe, ziel)"
   ]
  },
  {
   "cell_type": "markdown",
   "metadata": {},
   "source": [
    "Die letzte Zelle sollte zum Fehler `ValueError: could not convert string to float: 'Sunny'` geführt haben.\n",
    "Hier müssen wir für die Methode die Daten vorverarbeiten.\n",
    "\n",
    "Eine Möglichkeit ist das sogenannte One-Hot-Enkodieren.\n",
    "Dafür werden alle vorhandenen Kategorien eines Attributs als eine eigene Spalte aufgenommen.\n",
    "Diese Fähigkeit bringt das Modul pandas bereits mit."
   ]
  },
  {
   "cell_type": "code",
   "execution_count": null,
   "metadata": {
    "scrolled": false
   },
   "outputs": [],
   "source": [
    "one_hot_data = pd.get_dummies(df[[\"Day\", \"Outlook\", \"Temperature\", \"Humidity\", \"Wind\"]])\n",
    "\n",
    "one_hot_data"
   ]
  },
  {
   "cell_type": "markdown",
   "metadata": {},
   "source": [
    "Tatsächlich arbeteitet die Bibliothek mit der Matrix, die hinter der oben sichtbaren Tabelle liegt."
   ]
  },
  {
   "cell_type": "code",
   "execution_count": null,
   "metadata": {},
   "outputs": [],
   "source": [
    "one_hot_data.values"
   ]
  },
  {
   "cell_type": "code",
   "execution_count": null,
   "metadata": {},
   "outputs": [],
   "source": [
    "dt.fit(one_hot_data, ziel)"
   ]
  },
  {
   "cell_type": "code",
   "execution_count": null,
   "metadata": {},
   "outputs": [],
   "source": [
    "y_pred = dt.predict(one_hot_data)\n",
    "y_pred"
   ]
  },
  {
   "cell_type": "code",
   "execution_count": null,
   "metadata": {},
   "outputs": [],
   "source": [
    "sklearn.metrics.accuracy_score(df[\"Play Tennis?\"], y_pred)"
   ]
  },
  {
   "cell_type": "markdown",
   "metadata": {},
   "source": [
    "Uuups, das ist aber ganz schön gut.\n",
    "Kann man den Nachbarn wirklich so leicht durchschauen?"
   ]
  },
  {
   "cell_type": "code",
   "execution_count": null,
   "metadata": {},
   "outputs": [],
   "source": [
    "one_hot_data.iloc[0]"
   ]
  },
  {
   "cell_type": "markdown",
   "metadata": {},
   "source": [
    "Für Weiterdenkende:\n",
    "Auf https://scikit-learn.org/stable/auto_examples/tree/plot_unveil_tree_structure.html wird Schritt für Schritt erklärt, wie man die Entscheidung eines Entscheidungsbaums nachvollziehen kann."
   ]
  }
 ],
 "metadata": {
  "kernelspec": {
   "display_name": "Python [conda env:ml-hype-or-hybris] *",
   "language": "python",
   "name": "conda-env-ml-hype-or-hybris-py"
  },
  "language_info": {
   "codemirror_mode": {
    "name": "ipython",
    "version": 3
   },
   "file_extension": ".py",
   "mimetype": "text/x-python",
   "name": "python",
   "nbconvert_exporter": "python",
   "pygments_lexer": "ipython3",
   "version": "3.7.5"
  }
 },
 "nbformat": 4,
 "nbformat_minor": 2
}
