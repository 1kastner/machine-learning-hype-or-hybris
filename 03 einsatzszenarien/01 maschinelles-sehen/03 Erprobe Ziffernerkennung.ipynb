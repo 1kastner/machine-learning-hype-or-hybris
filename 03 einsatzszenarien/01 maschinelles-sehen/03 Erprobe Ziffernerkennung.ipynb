{
 "cells": [
  {
   "cell_type": "markdown",
   "metadata": {},
   "source": [
    "# Erprobe Ziffernerkennung"
   ]
  },
  {
   "cell_type": "code",
   "execution_count": null,
   "metadata": {},
   "outputs": [],
   "source": [
    "%%capture\n",
    "%run \"02 Erkennung von Ziffern.ipynb\""
   ]
  },
  {
   "cell_type": "code",
   "execution_count": null,
   "metadata": {},
   "outputs": [],
   "source": [
    "print(f\"Genauigkeit von k nächste Nachbarn:\\t {neigh.score(X_test, y_test)*100:.02f} %\")\n",
    "print(f\"Genauigkeit vom Random Forest:\\t\\t {clf.score(X_test, y_test)*100:.02f} %\")"
   ]
  },
  {
   "cell_type": "markdown",
   "metadata": {},
   "source": [
    "Bette diese Prädiktoren nun in eine Anwendung ein."
   ]
  },
  {
   "cell_type": "code",
   "execution_count": null,
   "metadata": {},
   "outputs": [],
   "source": [
    "import PIL\n",
    "import PIL.ImageDraw\n",
    "import tkinter\n",
    "import numpy as np"
   ]
  },
  {
   "cell_type": "markdown",
   "metadata": {},
   "source": [
    "Skaliere Bild auf 8x8 Pixel und wandle es in einen 1d-Array um, damit es als Eingabe für die ML-Algorithmen verwendet werden kann."
   ]
  },
  {
   "cell_type": "code",
   "execution_count": null,
   "metadata": {},
   "outputs": [],
   "source": [
    "def resize_image(pil_image):\n",
    "    \"resizes a PIL image to 8x8 pixels and scales the intensity values to 0..16\"\n",
    "    resized_digit_image = output_image.resize((8, 8), PIL.Image.LANCZOS)\n",
    "    resized_digit_array = np.array(resized_digit_image)\n",
    "    new_100_percent = np.partition(resized_digit_array.flatten(), -9)[-9]\n",
    "    rescaled_digit_repr = (\n",
    "        (resized_digit_array - resized_digit_array.min())\n",
    "        / (new_100_percent - resized_digit_array.min())) * 16\n",
    "    np.clip(rescaled_digit_repr, 0, 16, out=rescaled_digit_repr)\n",
    "    return rescaled_digit_repr"
   ]
  },
  {
   "cell_type": "markdown",
   "metadata": {},
   "source": [
    "Definiere eine kleine einfache Tkinter-Anwendung für eine Zifferneingabe."
   ]
  },
  {
   "cell_type": "code",
   "execution_count": null,
   "metadata": {},
   "outputs": [],
   "source": [
    "width = 200\n",
    "height = 200\n",
    "output_image = PIL.Image.new(\"L\", (width, height))\n",
    "center = height//2\n",
    "white = (255, 255, 255)\n",
    "\n",
    "def paint(event):\n",
    "    x1, y1 = (event.x - 1), (event.y - 1)\n",
    "    x2, y2 = (event.x + 1), (event.y + 1)\n",
    "    canvas.create_oval(x1, y1, x2, y2, fill=\"white\", width=5)\n",
    "    draw.line([x1, y1, x2, y2], fill=\"white\", width=5)\n",
    "\n",
    "def run_estimator():\n",
    "    global output_image, draw\n",
    "    rescaled_digit_repr = resize_image(output_image)\n",
    "    plt.imshow(rescaled_digit_repr)\n",
    "    plt.show()\n",
    "    digit_category_rf = clf.predict([rescaled_digit_repr.flatten()])\n",
    "    digit_category_knn = neigh.predict([rescaled_digit_repr.flatten()])\n",
    "    label = tkinter.Label(master, text=f\"RF predicted: {digit_category_rf}\\nKNN predicted: {digit_category_knn}\")\n",
    "    label.pack()\n",
    "    output_image = PIL.Image.new(\"L\", (width, height))\n",
    "    draw = PIL.ImageDraw.Draw(output_image)\n",
    "\n",
    "master = tkinter.Tk()\n",
    "canvas = tkinter.Canvas(master, width=width, height=height, bg='white')\n",
    "canvas.pack()\n",
    "draw = PIL.ImageDraw.Draw(output_image)\n",
    "canvas.pack(expand=tkinter.YES, fill=tkinter.BOTH)\n",
    "canvas.bind(\"<B1-Motion>\", paint)\n",
    "button = tkinter.Button(text=\"predict\", command=run_estimator)\n",
    "button.pack()\n",
    "button = tkinter.Button(text=\"clear\", command=lambda : canvas.delete(\"all\"))\n",
    "button.pack()"
   ]
  },
  {
   "cell_type": "markdown",
   "metadata": {},
   "source": [
    "Starte Tkinter-Applikation"
   ]
  },
  {
   "cell_type": "code",
   "execution_count": null,
   "metadata": {},
   "outputs": [],
   "source": [
    "master.mainloop()"
   ]
  }
 ],
 "metadata": {
  "kernelspec": {
   "display_name": "Python 3",
   "language": "python",
   "name": "python3"
  },
  "language_info": {
   "codemirror_mode": {
    "name": "ipython",
    "version": 3
   },
   "file_extension": ".py",
   "mimetype": "text/x-python",
   "name": "python",
   "nbconvert_exporter": "python",
   "pygments_lexer": "ipython3",
   "version": "3.7.9"
  }
 },
 "nbformat": 4,
 "nbformat_minor": 4
}
