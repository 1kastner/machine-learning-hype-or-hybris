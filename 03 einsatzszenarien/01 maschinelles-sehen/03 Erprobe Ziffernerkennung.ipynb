{
 "cells": [
  {
   "cell_type": "markdown",
   "metadata": {},
   "source": [
    "# Erprobe Ziffernerkennung"
   ]
  },
  {
   "cell_type": "code",
   "execution_count": null,
   "metadata": {},
   "outputs": [],
   "source": [
    "%%capture\n",
    "%run \"02 Erkennung von Ziffern.ipynb\""
   ]
  },
  {
   "cell_type": "code",
   "execution_count": null,
   "metadata": {},
   "outputs": [],
   "source": [
    "print(f\"Genauigkeit von k nächste Nachbarn:\\t {neigh.score(X_test, y_test)*100:.02f} %\")\n",
    "print(f\"Genauigkeit vom Random Forest:\\t\\t {clf.score(X_test, y_test)*100:.02f} %\")"
   ]
  },
  {
   "cell_type": "code",
   "execution_count": null,
   "metadata": {},
   "outputs": [],
   "source": [
    "import PIL\n",
    "import PIL.ImageDraw\n",
    "import tkinter\n",
    "import numpy as np"
   ]
  },
  {
   "cell_type": "code",
   "execution_count": null,
   "metadata": {},
   "outputs": [],
   "source": [
    "width = 200\n",
    "height = 200\n",
    "output_image = PIL.Image.new(\"L\", (width, height))\n",
    "\n",
    "def run_estimator():\n",
    "    resized_digit_image = output_image.resize((8, 8), PIL.Image.LANCZOS)\n",
    "    resized_digit_array = np.array(resized_digit_image)\n",
    "    rescaled_digit_repr = (\n",
    "        (resized_digit_array - resized_digit_array.min())\n",
    "        / (resized_digit_array.max() - resized_digit_array.min())) * 16\n",
    "    plt.imshow(rescaled_digit_repr)\n",
    "    plt.show()\n",
    "    digit_category_rf = clf.predict([rescaled_digit_repr.flatten()])\n",
    "    digit_category_knn = neigh.predict([rescaled_digit_repr.flatten()])\n",
    "    print(f\"RF predicted: {digit_category_rf}\")\n",
    "    print(f\"KNN predicted: {digit_category_knn}\")"
   ]
  },
  {
   "cell_type": "code",
   "execution_count": null,
   "metadata": {},
   "outputs": [],
   "source": [
    "center = height//2\n",
    "white = (255, 255, 255)\n",
    "\n",
    "def paint(event):\n",
    "    x1, y1 = (event.x - 1), (event.y - 1)\n",
    "    x2, y2 = (event.x + 1), (event.y + 1)\n",
    "    canvas.create_oval(x1, y1, x2, y2, fill=\"white\", width=5)\n",
    "    draw.line([x1, y1, x2, y2], fill=\"white\", width=5)\n",
    "  \n",
    "\n",
    "master = tkinter.Tk()\n",
    "canvas = tkinter.Canvas(master, width=width, height=height, bg='white')\n",
    "canvas.pack()\n",
    "draw = PIL.ImageDraw.Draw(output_image)\n",
    "canvas.pack(expand=tkinter.YES, fill=tkinter.BOTH)\n",
    "canvas.bind(\"<B1-Motion>\", paint)\n",
    "button = tkinter.Button(text=\"predict\", command=run_estimator)\n",
    "button.pack()\n",
    "button = tkinter.Button(text=\"clear\", command=lambda : canvas.delete(\"all\"))\n",
    "button.pack()"
   ]
  },
  {
   "cell_type": "code",
   "execution_count": null,
   "metadata": {},
   "outputs": [],
   "source": [
    "master.mainloop()"
   ]
  }
 ],
 "metadata": {
  "kernelspec": {
   "display_name": "Python 3",
   "language": "python",
   "name": "python3"
  },
  "language_info": {
   "codemirror_mode": {
    "name": "ipython",
    "version": 3
   },
   "file_extension": ".py",
   "mimetype": "text/x-python",
   "name": "python",
   "nbconvert_exporter": "python",
   "pygments_lexer": "ipython3",
   "version": "3.7.9"
  }
 },
 "nbformat": 4,
 "nbformat_minor": 4
}
