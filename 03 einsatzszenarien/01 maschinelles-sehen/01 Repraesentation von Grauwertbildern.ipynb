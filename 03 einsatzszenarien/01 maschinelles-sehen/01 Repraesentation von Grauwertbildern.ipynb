{
 "cells": [
  {
   "cell_type": "markdown",
   "metadata": {},
   "source": [
    "# Repräsentation von Grauwertbildern\n",
    "\n",
    "Bilder werden häufig in Form von Rastergrafiken gespeichert.\n",
    "Dies bedeutet, dass ein Bild mit einer Breite $m$ und einer Höhe $n$ dann $m \\times n$ Pixel groß ist.\n",
    "Ein Pixel ist ein \"Picture Element\", also die Farbe an einer bestimmten Stelle.\n",
    "Ein Bild kann somit als eine Matrix von Pixeln dargestellt werden."
   ]
  },
  {
   "cell_type": "code",
   "execution_count": null,
   "metadata": {},
   "outputs": [],
   "source": [
    "import numpy as np\n",
    "import imageio\n",
    "import matplotlib.pyplot as plt"
   ]
  },
  {
   "cell_type": "markdown",
   "metadata": {},
   "source": [
    "Die Bibliothek `imageio` enthält eine Reihe von Beispielbildern."
   ]
  },
  {
   "cell_type": "code",
   "execution_count": null,
   "metadata": {},
   "outputs": [],
   "source": [
    "gray_image = imageio.imread(\"imageio:camera.png\")\n",
    "plt.imshow(gray_image, cmap=\"gray\")\n",
    "plt.show()"
   ]
  },
  {
   "cell_type": "markdown",
   "metadata": {},
   "source": [
    "Ein Bild verfügt über eine Breite und eine Höhe.\n",
    "Wie man oben an der X- und Y-Achse sieht, ist das Bild etwas über 500 Pixel hoch und breit.\n",
    "Grauwertbilder haben nur einen Zahlenwert je darzustellenden Pixel, den Intensitätswert an der jeweiligen Position.\n",
    "\n",
    "Das Bild wird intern als eine zweidimensionale Matrix abgespeichert."
   ]
  },
  {
   "cell_type": "code",
   "execution_count": null,
   "metadata": {},
   "outputs": [],
   "source": [
    "gray_image.ndim"
   ]
  },
  {
   "cell_type": "markdown",
   "metadata": {},
   "source": [
    "Im Hintergrund ist das Bild ein Array von Arrays mit Intensitätswerten."
   ]
  },
  {
   "cell_type": "code",
   "execution_count": null,
   "metadata": {},
   "outputs": [],
   "source": [
    "gray_image"
   ]
  },
  {
   "cell_type": "markdown",
   "metadata": {},
   "source": [
    "Es gibt viele Standards für die Intensitätswerte.\n",
    "Deswegen sollte man jedes Mal überprüfen, in welchem Format ein Bild vorliegt.\n",
    "Dafür werden die kleinsten und größten Intensitätswerte betrachtet."
   ]
  },
  {
   "cell_type": "code",
   "execution_count": null,
   "metadata": {},
   "outputs": [],
   "source": [
    "gray_image.min(), gray_image.max()"
   ]
  },
  {
   "cell_type": "markdown",
   "metadata": {},
   "source": [
    "Die Pixel rangieren zwischen 0 und 255, sprich insgesamt 256 verschiedene Werte."
   ]
  },
  {
   "cell_type": "markdown",
   "metadata": {},
   "source": [
    "## Ausschneiden von Bildteilen\n",
    "\n",
    "Wir können auf die Matrix über die Standard-Operatoren von Python zugreifen.\n",
    "Einer davon ist der Doppelpunkt zur Bestimmung von Abschnitten.\n",
    "So können wir z. B. die Kamera ausschneiden.\n",
    "Der Zugriff erfolgt über `BILD[Y-Achse, X-Achse]`."
   ]
  },
  {
   "cell_type": "code",
   "execution_count": null,
   "metadata": {},
   "outputs": [],
   "source": [
    "plt.imshow(gray_image[100:200, 250:350], cmap=\"gray\")"
   ]
  },
  {
   "cell_type": "markdown",
   "metadata": {},
   "source": [
    "Der Doppelpunkt beschreibt hier eine Range, also\n",
    "auf der Y-Achse werden die Werte von 100 bis 200\n",
    "und auf der X-Achse die Werte von 250 bis 350\n",
    "ausgewählt."
   ]
  },
  {
   "cell_type": "markdown",
   "metadata": {},
   "source": [
    "Dieses Bild können wir nun auch invertieren.\n",
    "Dies ist eine einfache mathematische Operation:\n",
    "Wir können das Array von Arrays von dem Maximum subtrahieren.\n",
    "Es lassen sich allgemein beliebige mathematische Operationen auf dieser Matrix ausführen."
   ]
  },
  {
   "cell_type": "code",
   "execution_count": null,
   "metadata": {},
   "outputs": [],
   "source": [
    "plt.imshow(255 - gray_image[100:200, 250:350], cmap=\"gray\")"
   ]
  },
  {
   "cell_type": "markdown",
   "metadata": {},
   "source": [
    "Wir können auch Pixelbereiche der Matrix überschreiben.\n",
    "Durch das Setzen auf den Wert 0 wird diesem Pixelbereich die Farbe Schwarz zugewiesen."
   ]
  },
  {
   "cell_type": "code",
   "execution_count": null,
   "metadata": {},
   "outputs": [],
   "source": [
    "gray_image_copy = np.copy(gray_image)\n",
    "gray_image_copy[[129, 130, 131],:] = 0\n",
    "gray_image_copy[[159, 160, 161],:] = 0\n",
    "gray_image_copy[:,[299, 300, 301]] = 0\n",
    "gray_image_copy[:,[339, 340, 341]] = 0\n",
    "plt.imshow(gray_image_copy, cmap=\"gray\")"
   ]
  },
  {
   "cell_type": "markdown",
   "metadata": {},
   "source": [
    "Nun betrachten wir das Kamera-Rohr genauer."
   ]
  },
  {
   "cell_type": "code",
   "execution_count": null,
   "metadata": {},
   "outputs": [],
   "source": [
    "plt.imshow(gray_image[130:160, 300:340], cmap=\"gray\")\n",
    "plt.show()"
   ]
  },
  {
   "cell_type": "markdown",
   "metadata": {},
   "source": [
    "Die Zahlen-Matrix, mithilfe der dieses Bild intern repräsentiert wird, lässt sich auch direkt einsehen."
   ]
  },
  {
   "cell_type": "code",
   "execution_count": null,
   "metadata": {},
   "outputs": [],
   "source": [
    "gray_image[140:160, 320:340]"
   ]
  },
  {
   "cell_type": "markdown",
   "metadata": {},
   "source": [
    "<span style=\"color:blue; font-weight:bold\">Aufgabe 1</span>\n",
    "\n",
    "Vergleichen Sie die Matrix mit dem Bild. Was repräsentieren hier die kleinen, was die großen Zahlen?"
   ]
  },
  {
   "cell_type": "markdown",
   "metadata": {},
   "source": [
    "Antwort: ..."
   ]
  },
  {
   "cell_type": "markdown",
   "metadata": {},
   "source": [
    "<a rel=\"license\" href=\"http://creativecommons.org/licenses/by/4.0/\"><img alt=\"Creative Commons Lizenzvertrag\" style=\"border-width:0; display:inline\" src=\"https://i.creativecommons.org/l/by/4.0/88x31.png\" /></a> &nbsp;&nbsp;&nbsp;&nbsp;Dieses Werk von Marvin Kastner ist lizenziert unter einer <a rel=\"license\" href=\"http://creativecommons.org/licenses/by/4.0/\">Creative Commons Namensnennung 4.0 International Lizenz</a>."
   ]
  }
 ],
 "metadata": {
  "kernelspec": {
   "display_name": "Python 3",
   "language": "python",
   "name": "python3"
  },
  "language_info": {
   "codemirror_mode": {
    "name": "ipython",
    "version": 3
   },
   "file_extension": ".py",
   "mimetype": "text/x-python",
   "name": "python",
   "nbconvert_exporter": "python",
   "pygments_lexer": "ipython3",
   "version": "3.8.5"
  },
  "varInspector": {
   "cols": {
    "lenName": 16,
    "lenType": 16,
    "lenVar": 40
   },
   "kernels_config": {
    "python": {
     "delete_cmd_postfix": "",
     "delete_cmd_prefix": "del ",
     "library": "var_list.py",
     "varRefreshCmd": "print(var_dic_list())"
    },
    "r": {
     "delete_cmd_postfix": ") ",
     "delete_cmd_prefix": "rm(",
     "library": "var_list.r",
     "varRefreshCmd": "cat(var_dic_list()) "
    }
   },
   "types_to_exclude": [
    "module",
    "function",
    "builtin_function_or_method",
    "instance",
    "_Feature"
   ],
   "window_display": false
  }
 },
 "nbformat": 4,
 "nbformat_minor": 2
}
