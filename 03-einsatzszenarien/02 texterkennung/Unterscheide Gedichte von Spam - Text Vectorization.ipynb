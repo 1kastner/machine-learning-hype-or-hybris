{
 "cells": [
  {
   "cell_type": "markdown",
   "id": "understood-threat",
   "metadata": {},
   "source": [
    "# Unterscheide Gedichte von Spam - Text Vectorization"
   ]
  },
  {
   "cell_type": "code",
   "execution_count": null,
   "id": "7eb3bba1-7943-4028-9db1-abf81a983477",
   "metadata": {},
   "outputs": [],
   "source": [
    "import sklearn.linear_model\n",
    "import sklearn.pipeline\n",
    "import sklearn.feature_extraction"
   ]
  },
  {
   "cell_type": "markdown",
   "id": "cac9fb7f-5093-4a3f-9f72-c5d7a33e0fe0",
   "metadata": {},
   "source": [
    "Lade DataFrame vom fremden Jupyter Notebook."
   ]
  },
  {
   "cell_type": "code",
   "execution_count": null,
   "id": "respective-broadcast",
   "metadata": {
    "deletable": false
   },
   "outputs": [],
   "source": [
    "%%capture\n",
    "%run \"Unterscheide Gedichte von Spam - naiver Ansatz.ipynb\"\n",
    "\n",
    "df"
   ]
  },
  {
   "cell_type": "markdown",
   "id": "3a6d81c1-9070-40b1-86b2-0cbcd12d0c24",
   "metadata": {},
   "source": [
    "Teile Datensatz auf."
   ]
  },
  {
   "cell_type": "code",
   "execution_count": null,
   "id": "306f8d51-ea98-4d16-a60d-ac33b8a290e7",
   "metadata": {},
   "outputs": [],
   "source": [
    "X_train, X_test, y_train, y_test = sklearn.model_selection.train_test_split(\n",
    "    df[\"text\"].values, df[\"category\"].values,\n",
    "    test_size=0.33, random_state=42)"
   ]
  },
  {
   "cell_type": "markdown",
   "id": "b69221ff-abeb-4530-80e8-91a04b084784",
   "metadata": {},
   "source": [
    "Definiere Lern-Pipeline.\n",
    "Mehr Infos hierzu unter\n",
    "https://scikit-learn.org/stable/tutorial/text_analytics/working_with_text_data.html"
   ]
  },
  {
   "cell_type": "code",
   "execution_count": null,
   "id": "0fcc341a-6db2-40fd-8840-bb43e4eff288",
   "metadata": {},
   "outputs": [],
   "source": [
    "clf = sklearn.linear_model.LogisticRegression()  # Definiere Klassifizierer\n",
    "\n",
    "pipeline = sklearn.pipeline.Pipeline([\n",
    "    ('vect', sklearn.feature_extraction.text.CountVectorizer()),    # Zähle Häufigkeit von Wörtern\n",
    "    # ('tfidf', sklearn.feature_extraction.text.TfidfTransformer()),  # Verwende Logarithmus statt absolute Werte\n",
    "    ('clf', clf),\n",
    "])"
   ]
  },
  {
   "cell_type": "markdown",
   "id": "84587c22-e5a5-4ae7-8ffe-a3452b4da9dc",
   "metadata": {},
   "source": [
    "Trainiere den Klassifizierer `clf`. \n",
    "Die Rückgabe von `pipeline.score` entspricht der Rückgabe der Methode `score` des Klassifizierers `clf`."
   ]
  },
  {
   "cell_type": "code",
   "execution_count": null,
   "id": "systematic-symposium",
   "metadata": {},
   "outputs": [],
   "source": [
    "pipeline.fit(X_train, y_train)\n",
    "pipeline.score(X_train, y_train)"
   ]
  }
 ],
 "metadata": {
  "celltoolbar": "Edit Metadata",
  "kernelspec": {
   "display_name": "Python 3",
   "language": "python",
   "name": "python3"
  },
  "language_info": {
   "codemirror_mode": {
    "name": "ipython",
    "version": 3
   },
   "file_extension": ".py",
   "mimetype": "text/x-python",
   "name": "python",
   "nbconvert_exporter": "python",
   "pygments_lexer": "ipython3",
   "version": "3.8.10"
  }
 },
 "nbformat": 4,
 "nbformat_minor": 5
}
